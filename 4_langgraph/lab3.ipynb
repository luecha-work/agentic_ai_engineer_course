{
 "cells": [
  {
   "cell_type": "code",
   "execution_count": 1,
   "id": "68393294",
   "metadata": {},
   "outputs": [
    {
     "name": "stderr",
     "output_type": "stream",
     "text": [
      "/home/luecha-kanm/Documents/Dev/Agintic-AI/agentic_ai_engineer_course/4_langgraph/.venv/lib/python3.12/site-packages/tqdm/auto.py:21: TqdmWarning: IProgress not found. Please update jupyter and ipywidgets. See https://ipywidgets.readthedocs.io/en/stable/user_install.html\n",
      "  from .autonotebook import tqdm as notebook_tqdm\n"
     ]
    }
   ],
   "source": [
    "from typing import Annotated\n",
    "from typing_extensions import TypedDict\n",
    "from langgraph.graph import StateGraph, START, END\n",
    "from langgraph.graph.message import add_messages\n",
    "from dotenv import load_dotenv\n",
    "from IPython.display import Image, display\n",
    "import gradio as gr\n",
    "from typing_extensions import TypedDict\n",
    "from langgraph.graph import StateGraph\n",
    "from langgraph.graph.message import add_messages\n",
    "from langgraph.prebuilt import ToolNode, tools_condition\n",
    "import requests\n",
    "import os\n",
    "from langchain.agents import Tool\n",
    "from langchain_google_genai import ChatGoogleGenerativeAI\n",
    "from langgraph.checkpoint.memory import MemorySaver\n"
   ]
  },
  {
   "cell_type": "code",
   "execution_count": 2,
   "id": "05899a0a",
   "metadata": {},
   "outputs": [],
   "source": [
    "load_dotenv(override=True)\n",
    "\n",
    "if \"GOOGLE_API_KEY\" not in os.environ:\n",
    "    os.environ[\"GOOGLE_API_KEY\"] = getpass4.getpass(\"Enter your Google AI API key: \")"
   ]
  },
  {
   "cell_type": "code",
   "execution_count": 3,
   "id": "2c5ca965",
   "metadata": {},
   "outputs": [],
   "source": [
    "llm = ChatGoogleGenerativeAI(\n",
    "    model=\"gemini-2.5-flash\",\n",
    "    temperature=0,\n",
    "    max_tokens=None,\n",
    "    timeout=None,\n",
    "    max_retries=2,\n",
    "    # other params...\n",
    ")"
   ]
  },
  {
   "cell_type": "markdown",
   "id": "7513caef",
   "metadata": {},
   "source": [
    "## Asynchronous LangGraph\n",
    "\n",
    "### To run a tool:\n",
    "- **Sync:** `tool.run(inputs)`\n",
    "- **Async:** `await tool.arun(inputs)`\n",
    "\n",
    "### To invoke the graph:\n",
    "- **Sync:** `graph.invoke(state)`\n",
    "- **Async:** `await graph.ainvoke(state)`\n"
   ]
  },
  {
   "cell_type": "code",
   "execution_count": 4,
   "id": "f162c0b3",
   "metadata": {},
   "outputs": [],
   "source": [
    "class State(TypedDict):\n",
    "    messages: Annotated[list, add_messages]\n",
    "    \n",
    "graph_builder = StateGraph(State)"
   ]
  },
  {
   "cell_type": "code",
   "execution_count": 5,
   "id": "6fd7c689",
   "metadata": {},
   "outputs": [],
   "source": [
    "from langchain_community.utilities import GoogleSerperAPIWrapper\n",
    "\n",
    "serper = GoogleSerperAPIWrapper()\n",
    "\n",
    "tool_search = Tool(\n",
    "    name=\"search\",\n",
    "    description=\"Useful for when you need more information from an online search\",\n",
    "    func=serper.run,\n",
    ")"
   ]
  },
  {
   "cell_type": "code",
   "execution_count": 6,
   "id": "54ccd14c",
   "metadata": {},
   "outputs": [
    {
     "data": {
      "text/plain": [
       "'ผลลัพธ์: 1+2 = 3'"
      ]
     },
     "execution_count": 6,
     "metadata": {},
     "output_type": "execute_result"
    }
   ],
   "source": [
    "def calculate_math(expression: str) -> str:\n",
    "    \"\"\"Calculate mathematical expressions safely\"\"\"\n",
    "    try:\n",
    "        # Remove any potentially dangerous characters and evaluate safely\n",
    "        allowed_chars: set[str] = set(\"0123456789+-*/(). \")\n",
    "        if all(c in allowed_chars for c in expression):\n",
    "            result = eval(expression)\n",
    "            return f\"ผลลัพธ์: {expression} = {result}\"\n",
    "        else:\n",
    "            return \"ข้อผิดพลาด: นิพจน์ไม่ถูกต้อง ใช้ได้เฉพาะตัวเลขและเครื่องหมาย +, -, *, /, (, ) เท่านั้น\"\n",
    "    except Exception as e:\n",
    "        return f\"ข้อผิดพลาดในการคำนวณ: {str(e)}\"\n",
    "\n",
    "\n",
    "calculate_tool = Tool(\n",
    "    name=\"calculator\",\n",
    "    func=calculate_math,\n",
    "    description=\"Use this to calculate mathematical expressions. Input should be a valid math expression like '2 + 3 * 4' or '(10 + 5) / 3'\",\n",
    ")\n",
    "\n",
    "calculate_tool.invoke(\"1+2\")"
   ]
  },
  {
   "cell_type": "markdown",
   "id": "2f1c7ac2",
   "metadata": {},
   "source": [
    "## Next: Install Playwright\n",
    "\n",
    "### On Windows and MacOS:\n",
    "```bash\n",
    "playwright install\n",
    "```\n",
    "\n",
    "### On Linux:\n",
    "```bash\n",
    "playwright install --with-deps chromium\n",
    "```\n",
    "\n",
    "Introducing nest_asyncio\n",
    "\n",
    "Python async code only allows for one \"event loop\" processing asynchronous events.\n",
    "\n",
    "The `nest_asyncio` library patches this, and is used for special situations, if you need to run a nested event loop."
   ]
  },
  {
   "cell_type": "code",
   "execution_count": 7,
   "id": "69e73991",
   "metadata": {},
   "outputs": [],
   "source": [
    "import nest_asyncio\n",
    "nest_asyncio.apply()"
   ]
  },
  {
   "cell_type": "markdown",
   "id": "73d32975",
   "metadata": {},
   "source": [
    "### The LangChain Community\n",
    "\n",
    "One of the remarkable things about the rich LangChain community around it.\n",
    "\n",
    "Check this out:"
   ]
  },
  {
   "cell_type": "code",
   "execution_count": 8,
   "id": "ac9d6c34",
   "metadata": {},
   "outputs": [],
   "source": [
    "import nest_asyncio; nest_asyncio.apply()\n",
    "\n",
    "from playwright.async_api import async_playwright\n",
    "from langchain_community.agent_toolkits import PlayWrightBrowserToolkit\n",
    "\n",
    "async def setup(headless=False):\n",
    "    p = await async_playwright().start()\n",
    "    browser = await p.chromium.launch(headless=headless)\n",
    "    # ใช้ from_browser โดยระบุ async_browser\n",
    "    toolkit = PlayWrightBrowserToolkit.from_browser(async_browser=browser)\n",
    "    tools = toolkit.get_tools()\n",
    "    return tools, browser, p\n",
    "\n",
    "tools, browser, p = await setup(False)\n",
    "\n",
    "# ... ใช้งาน tools ...\n",
    "\n",
    "# ปิดงาน\n",
    "# await browser.close()\n",
    "# await p.stop()\n"
   ]
  },
  {
   "cell_type": "code",
   "execution_count": 9,
   "id": "a7b5efe9",
   "metadata": {},
   "outputs": [
    {
     "name": "stdout",
     "output_type": "stream",
     "text": [
      "click_element=async_browser=<Browser type=<BrowserType name=chromium executable_path=/home/luecha-kanm/.cache/ms-playwright/chromium-1187/chrome-linux/chrome> version=140.0.7339.16>\n",
      "navigate_browser=async_browser=<Browser type=<BrowserType name=chromium executable_path=/home/luecha-kanm/.cache/ms-playwright/chromium-1187/chrome-linux/chrome> version=140.0.7339.16>\n",
      "previous_webpage=async_browser=<Browser type=<BrowserType name=chromium executable_path=/home/luecha-kanm/.cache/ms-playwright/chromium-1187/chrome-linux/chrome> version=140.0.7339.16>\n",
      "extract_text=async_browser=<Browser type=<BrowserType name=chromium executable_path=/home/luecha-kanm/.cache/ms-playwright/chromium-1187/chrome-linux/chrome> version=140.0.7339.16>\n",
      "extract_hyperlinks=async_browser=<Browser type=<BrowserType name=chromium executable_path=/home/luecha-kanm/.cache/ms-playwright/chromium-1187/chrome-linux/chrome> version=140.0.7339.16>\n",
      "get_elements=async_browser=<Browser type=<BrowserType name=chromium executable_path=/home/luecha-kanm/.cache/ms-playwright/chromium-1187/chrome-linux/chrome> version=140.0.7339.16>\n",
      "current_webpage=async_browser=<Browser type=<BrowserType name=chromium executable_path=/home/luecha-kanm/.cache/ms-playwright/chromium-1187/chrome-linux/chrome> version=140.0.7339.16>\n"
     ]
    }
   ],
   "source": [
    "for tool in tools:\n",
    "    print(f\"{tool.name}={tool}\")"
   ]
  },
  {
   "cell_type": "code",
   "execution_count": 10,
   "id": "3c5e1af0",
   "metadata": {},
   "outputs": [],
   "source": [
    "tools_dict = {tool.name: tool for tool in tools}\n",
    "\n",
    "navigate_tool = tools_dict.get(\"navigate_browser\")\n",
    "extract_text_tool = tools_dict.get(\"extract_text\")\n",
    "\n",
    "await tools_dict[\"navigate_browser\"].arun({\"url\": \"https://cnn.com\"})\n",
    "text = await tools_dict[\"extract_text\"].arun({})\n",
    "\n",
    "# ctx = await browser.new_context(); ctx.set_default_navigation_timeout(60000)\n",
    "# page = await ctx.new_page()\n",
    "# await page.goto(\"https://www.cnn.com\", wait_until=\"domcontentloaded\")\n",
    "# text = await tools_dict[\"extract_text\"].arun({})"
   ]
  },
  {
   "cell_type": "code",
   "execution_count": 11,
   "id": "ca744aed",
   "metadata": {},
   "outputs": [
    {
     "name": "stdout",
     "output_type": "stream",
     "text": [
      "Breaking News, Latest News and Videos | CNN CNN values your feedback\n",
      "1. How relevant is this ad to you? 2. Did you encounter any technical\n",
      "issues? No Video player was slow to load content Video content never\n",
      "loaded Ad froze or did not finish loading Video content did not start\n",
      "after ad Audio on ad was too loud Other issues Ad never loaded Ad\n",
      "prevented/slowed the page from loading Content moved around while ad\n",
      "loaded Ad was repetitive to ads I've seen previously Other issues\n",
      "Cancel Submit Thank You! Your effort and contribution in providing\n",
      "this feedback is much\n",
      "appreciated. Close Ad Feedback Close icon US World Politics Business\n",
      "Health Entertainment Style Travel Sports Science Climate Weather\n",
      "Ukraine-Russia War Israel-Hamas War Games More US World Politics\n",
      "Business Health Entertainment Style Travel Sports Science Climate\n",
      "Weather Ukraine-Russia War Israel-Hamas War Games Watch Listen Live TV\n",
      "Subscribe Sign in My Account Settings Newsletters Topics you follow\n",
      "Sign out Your CNN account Sign in to your CNN account Sign in My\n",
      "Account Settings Newsletters Topics you follow Sign out Your CNN\n",
      "account Sign in to your CNN account Live TV Listen Watch Edition US\n",
      "International Arabic Español Edition US International Arabic Español\n",
      "World Africa Americas Asia Australia China Europe India Middle East\n",
      "United Kingdom US Politics Trump Facts First CNN Polls 2025 Elections\n",
      "Business Tech Media Calculators Videos Markets Pre-markets After-Hours\n",
      "Fear & Greed Investing Markets Now Nightcap Health Life, But Better\n",
      "Fitness Food Sleep Mindfulness Relationships Entertainment Movies\n",
      "Television Celebrity Tech Innovate Foreseeable Future Mission: Ahead\n",
      "Work Transformed Innovative Cities Style Arts Design Fashion\n",
      "Architecture Luxury Beauty Video Travel Destinations Food & Drink Stay\n",
      "News Videos Sports Football Tennis Golf Motorsport US Sports Olympics\n",
      "Climbing Esports Hockey Science Space Life Unearthed Climate Solutions\n",
      "Weather Weather Video Climate Ukraine-Russia War Israel-Hamas War\n",
      "Features As Equals Call to Earth Freedom Project Impact Your World\n",
      "Inside Africa CNN Heroes Watch Live TV CNN Fast Shows A-Z CNN10 CNN\n",
      "Max CNN TV Schedules Listen CNN 5 Things Chasing Life with Dr. Sanjay\n",
      "Gupta The Assignment with Audie Cornish One Thing Tug of War CNN\n",
      "Political Briefing The Axe Files All There Is with Anderson Cooper All\n",
      "CNN Audio podcasts Games Daily Crossword Jumble Crossword Photo\n",
      "Shuffle Sudoblock Sudoku 5 Things Quiz About CNN Photos Investigations\n",
      "CNN Profiles CNN Leadership CNN Newsletters Work for CNN Follow CNN US\n",
      "strike on alleged drug boat Serbia protests Where is China headed?\n",
      "Woman to be sentenced in death cap mushrooms case Lunar eclipse US\n",
      "Open women’s final For the first time in the war, a Russian strike on\n",
      "Sunday hit Ukraine's Cabinet of Ministers Building for the first time.\n",
      "Reuters Russia launches largest air attack on Ukraine and strikes\n",
      "government building for first time US IMMIGRATION AND CUSTOMS\n",
      "ENFORCEMENT HANDOUT via Reuters How a monthslong federal immigration\n",
      "operation led to 475 arrests at a US Hyundai plant Video South Korea\n",
      "to support Koreans detained in US ICE raid 1:15 As they lose the right\n",
      "to work, Ukrainians who were once welcomed to US fear they will have\n",
      "to leave Germany opened its doors to 1 million refugees a decade ago.\n",
      "Here’s how the country has changed since Expected Trump trip opens\n",
      "opportunity for Xi Jinping meeting Show all Alex Brandon/AP Details\n",
      "are still being finalized and it’s unclear whether the US president\n",
      "may add other stops on the trip • Analysis Analysis Sergey\n",
      "Bobylez/AFP/POOL/Getty Images Analysis Xi Jinping asks the world to\n",
      "choose ‘war or peace.’ Which direction is China headed? • Video 1:23\n",
      "CNN/CCTV Video See what a US expert noticed about China’s military\n",
      "parade 1:23 Yang Bo/China News Service/Getty Images How the US exerts\n",
      "controls over foreign chipmakers in China Play Catch up on today's\n",
      "global news - Source: CNN Video Catch up on today’s global news Mike\n",
      "Frey/Imagn Images/Reuters US Open asks broadcasters to avoid crowd\n",
      "reactions to Trump during men’s finals match Geoff Burke/Imagn\n",
      "Images/Reuters Aryna Sabalenka becomes first woman to repeat as US\n",
      "Open champ since Serena Williams • Video 2:44 CNN Video Teen gamer to\n",
      "become Catholic Church’s first millennial saint 2:44 Ad Feedback More\n",
      "top stories • Analysis Analysis Philippe Magoni/AFP/Getty Images\n",
      "Analysis France is entering crisis mode again. It didn’t have to be\n",
      "this way Britain’s Nigel Farage takes center-stage as his Reform UK\n",
      "party piles pressure on Labour Japan’s prime minister has decided to\n",
      "resign, reports say Rare deadly shark attack sparks ocean hunt in\n",
      "Sydney, Australia ‘We are in critical minutes’: Gaza City assault\n",
      "spurs widespread Israeli protests amid fear for hostages Video Police\n",
      "arrest protesters in London’s Parliament Square 0:55 Weekend readS\n",
      "Ross Harried/NurPhoto/Getty Images Much of the world will experience a\n",
      "total lunar eclipse this weekend. Here’s how to see it Kyodo\n",
      "News/Pool/Getty Images Who is Japan’s ‘dragonfly’ prince, who could be\n",
      "the last emperor of the world’s oldest monarchy? Sep 6, 2025 CNN Turk\n",
      "Turkish bear goes viral after eating too much fruit Sep 6, 2025 Ad\n",
      "Feedback Celebrities & Culture XNY/Star Max/GC Images/Getty Images Old\n",
      "relationship dynamics remain — even as women change outdated money\n",
      "trends Scott Kowalchyk/CBS Drew Barrymore revisits ‘Late Show’ desk\n",
      "dance more than 30 years later with Stephen Colbert Ad Feedback\n",
      "Challenging norms Rich Pedroncelli/AP Endurance is a defining feature\n",
      "of pregnancy, as these ultra-athletes know Science & Environment\n",
      "Thomas Marshburn/NASA Spaceflight activates ‘dark genome’ in human\n",
      "cells, researcher says • Video 5:01 CNN This ‘backpack’ is unlocking\n",
      "how hawks see the world 5:01 Ad Feedback US Politics Eduardo\n",
      "Munoz/Reuters Sanders and Mamdani criticize Trump at town hall Donald\n",
      "Trump/Truth Social Experts skeptical of legality of Trump’s strike on\n",
      "alleged drug boat Aaron Schwartz/Reuters Growing fears, declining\n",
      "sales: DC delivery drivers too afraid to work amid Trump’s immigration\n",
      "crackdown Destination Turkey Yasin Akgul/AFP/Getty Images Hagia\n",
      "Sophia: Secrets of the 1,600-year-old megastructure that has survived\n",
      "the collapse of empires Shutterstock Turkish foods: 23 delicious\n",
      "dishes • Video 1:58 CNN Video Turkey’s ‘immortal’ olive trees are\n",
      "producing some of the finest olive oil in the world 1:58 Ad Feedback\n",
      "Business & tech Reuters OPEC+ will likely raise oil output further\n",
      "from October, sources say Toothpaste, McDonald’s, and Pepsi in\n",
      "crosshairs as US-India tariff tensions heat up Sports Geoff\n",
      "Stellfox/Getty Images Angel Reese suspended by Chicago Sky after\n",
      "making comments ‘detrimental to the team’ A team uniting a divided\n",
      "nation: War-torn Sudan’s remarkable rise to the precipice of World Cup\n",
      "history Health & wellness Daniel de la Hoz/Moment RF/Getty Images\n",
      "Paying attention to your gut can change your life — and the world New\n",
      "Ebola outbreak in DR Congo suspected of causing 15 deaths Ad Feedback\n",
      "Art Sotheby's Long, chatty letter from Jane Austen to sister Cassandra\n",
      "to be auctioned Why an artist spent five years and used 35 million\n",
      "beads to transform a jet Travel & beyond Clara Vannucci for CNN Four\n",
      "weddings and a side hustle: How people are earning extra cash from\n",
      "lavish ceremonies Visiting the US is about to get more expensive for\n",
      "foreign travelers Crime & Investigations Alicia Devine/Tallahassee\n",
      "Democrat/USA Today Network/Imagn Images Matriarch in murder-for-hire\n",
      "trial decided not to testify after clashing with judge. The jury found\n",
      "her guilty the next day Australian woman to be sentenced after being\n",
      "found guilty of killing lunch guests with poisoned Beef Wellington\n",
      "Call to Earth Show all • Gallery Gallery EarnestTse/iStockphoto/Getty\n",
      "Images Gallery This huge bird flies from the Arctic to China. It’s\n",
      "been hunted to near extinction Renaud Visage/Digital Vision/Getty\n",
      "Images Everyone hates wasps. But this scientist wants us to love them\n",
      "Adam Knox/American Bird Conservancy Thousands of mosquitoes are being\n",
      "dropped by drone over islands in Hawaii. Here’s why • Video 0:45\n",
      "Marisa Teitge/Knornschild Lab Video World’s largest carnivorous bat\n",
      "loves to cuddle 0:45 Ad Feedback More from CNN Juan Karita/AP\n",
      "Lightning-struck ‘miracle tree’ said to fulfill wishes draws devotees\n",
      "to Bolivian cemetery Why doesn’t Google Maps work in one of Asia’s\n",
      "most developed, tourist-friendly countries? These devices harvest\n",
      "drinking water from the air in the planet’s driest places. Critics say\n",
      "they’re an expensive distraction A historic pilgrimage: Why LGBTQ\n",
      "Catholics hope Pope Leo will take up Francis’ legacy Trump says some\n",
      "hostages may have ‘recently died’ in Gaza Hurricane Kiko’s path\n",
      "shifts, sparing Hawaii from strong winds and heavy rain Anthropic\n",
      "tells US judge it will pay $1.5 billion to settle author class action\n",
      "Subscribe Sign in My Account Settings Newsletters Topics you follow\n",
      "Sign out Your CNN account Sign in to your CNN account Live TV Listen\n",
      "Watch World Africa Americas Asia Australia China Europe India Middle\n",
      "East United Kingdom US Politics Trump Facts First CNN Polls 2025\n",
      "Elections Business Tech Media Calculators Videos Markets Pre-markets\n",
      "After-Hours Fear & Greed Investing Markets Now Nightcap Health Life,\n",
      "But Better Fitness Food Sleep Mindfulness Relationships Entertainment\n",
      "Movies Television Celebrity Tech Innovate Foreseeable Future Mission:\n",
      "Ahead Work Transformed Innovative Cities Style Arts Design Fashion\n",
      "Architecture Luxury Beauty Video Travel Destinations Food & Drink Stay\n",
      "News Videos Sports Football Tennis Golf Motorsport US Sports Olympics\n",
      "Climbing Esports Hockey Science Space Life Unearthed Climate Solutions\n",
      "Weather Weather Video Climate Ukraine-Russia War Israel-Hamas War\n",
      "Features As Equals Call to Earth Freedom Project Impact Your World\n",
      "Inside Africa CNN Heroes Watch Live TV CNN Fast Shows A-Z CNN10 CNN\n",
      "Max CNN TV Schedules Listen CNN 5 Things Chasing Life with Dr. Sanjay\n",
      "Gupta The Assignment with Audie Cornish One Thing Tug of War CNN\n",
      "Political Briefing The Axe Files All There Is with Anderson Cooper All\n",
      "CNN Audio podcasts Games Daily Crossword Jumble Crossword Photo\n",
      "Shuffle Sudoblock Sudoku 5 Things Quiz About CNN Photos Investigations\n",
      "CNN Profiles CNN Leadership CNN Newsletters Work for CNN Watch Listen\n",
      "Live TV Follow CNN Subscribe Sign in My Account Settings Newsletters\n",
      "Topics you follow Sign out Your CNN account Sign in to your CNN\n",
      "account Terms of Use Privacy Policy Manage Cookies Ad Choices\n",
      "Accessibility & CC About Newsletters Transcripts © 2025 Cable News\n",
      "Network. A Warner Bros. Discovery Company. All Rights Reserved. CNN\n",
      "Sans ™ & © 2016 Cable News Network. Privacy Policy For privacy\n",
      "options, please see our privacy policy: https://www.cnn.com/privacy .\n",
      "Back Button Cookie List Search Icon Filter Icon Clear checkbox label\n",
      "label Apply Cancel Consent Leg.Interest checkbox label label checkbox\n",
      "label label checkbox label label Close\n"
     ]
    }
   ],
   "source": [
    "import textwrap\n",
    "\n",
    "print(textwrap.fill(text))"
   ]
  },
  {
   "cell_type": "code",
   "execution_count": null,
   "id": "81d9b7f7",
   "metadata": {},
   "outputs": [],
   "source": [
    "all_tools = tools + [calculate_tool]"
   ]
  },
  {
   "cell_type": "code",
   "execution_count": 13,
   "id": "7dbcab1c",
   "metadata": {},
   "outputs": [],
   "source": [
    "llm = ChatGoogleGenerativeAI(\n",
    "    model=\"gemini-2.5-flash\",\n",
    "    temperature=0,\n",
    "    max_tokens=None,\n",
    "    timeout=None,\n",
    "    max_retries=2,\n",
    "    # other params...\n",
    ")\n",
    "\n",
    "llm_with_tools = llm.bind_tools(all_tools)\n",
    "\n",
    "def chatbot(state: State) -> State:\n",
    "    \"\"\"This function is called when the user sends a message to the chatbot.\"\"\"\n",
    "\n",
    "    return {\"messages\": [llm_with_tools.invoke(state[\"messages\"])]}"
   ]
  },
  {
   "cell_type": "code",
   "execution_count": 14,
   "id": "ba500cc9",
   "metadata": {},
   "outputs": [
    {
     "data": {
      "image/png": "[encoded data removed]",
      "text/plain": [
       "<IPython.core.display.Image object>"
      ]
     },
     "metadata": {},
     "output_type": "display_data"
    }
   ],
   "source": [
    "graph_builder = StateGraph(State)\n",
    "graph_builder.add_node(\"chatbot\", chatbot)\n",
    "graph_builder.add_node(\"tools\", ToolNode(tools=all_tools))\n",
    "graph_builder.add_conditional_edges(\n",
    "    \"chatbot\", tools_condition, {\"tools\": \"tools\", \"__end__\": END}\n",
    ")\n",
    "graph_builder.add_edge(\"tools\", \"chatbot\")\n",
    "graph_builder.add_edge(START, \"chatbot\")\n",
    "\n",
    "memory = MemorySaver()\n",
    "graph = graph_builder.compile(checkpointer=memory)\n",
    "display(Image(graph.get_graph().draw_mermaid_png()))\n"
   ]
  },
  {
   "cell_type": "code",
   "execution_count": null,
   "id": "2a8db07c",
   "metadata": {},
   "outputs": [
    {
     "name": "stdout",
     "output_type": "stream",
     "text": [
      "* Running on local URL:  http://127.0.0.1:7861\n",
      "* To create a public link, set `share=True` in `launch()`.\n"
     ]
    },
    {
     "data": {
      "text/html": [
       "<div><iframe src=\"http://127.0.0.1:7861/\" width=\"100%\" height=\"500\" allow=\"autoplay; camera; microphone; clipboard-read; clipboard-write;\" frameborder=\"0\" allowfullscreen></iframe></div>"
      ],
      "text/plain": [
       "<IPython.core.display.HTML object>"
      ]
     },
     "metadata": {},
     "output_type": "display_data"
    },
    {
     "data": {
      "text/plain": []
     },
     "execution_count": 16,
     "metadata": {},
     "output_type": "execute_result"
    },
    {
     "name": "stdout",
     "output_type": "stream",
     "text": [
      "{'messages': [HumanMessage(content='hi', additional_kwargs={}, response_metadata={}, id='34d0647b-61b6-4434-9ecd-8617fdce602d'), AIMessage(content='Hello! How can I help you today?', additional_kwargs={}, response_metadata={'prompt_feedback': {'block_reason': 0, 'safety_ratings': []}, 'finish_reason': 'STOP', 'model_name': 'gemini-2.5-flash', 'safety_ratings': []}, id='run--daa9ae67-e618-4064-9dc3-4ceb07f978fd-0', usage_metadata={'input_tokens': 433, 'output_tokens': 9, 'total_tokens': 442, 'input_token_details': {'cache_read': 0}}), HumanMessage(content='hi', additional_kwargs={}, response_metadata={}, id='1c3e7b42-0469-4171-84d8-86e70d30aed0'), AIMessage(content='Hello! How can I help you today?', additional_kwargs={}, response_metadata={'prompt_feedback': {'block_reason': 0, 'safety_ratings': []}, 'finish_reason': 'STOP', 'model_name': 'gemini-2.5-flash', 'safety_ratings': []}, id='run--a60dd9e4-82ab-4df9-ba5e-7f4cdb9d8b62-0', usage_metadata={'input_tokens': 445, 'output_tokens': 9, 'total_tokens': 454, 'input_token_details': {'cache_read': 0}})]}\n",
      "{'messages': [HumanMessage(content='hi', additional_kwargs={}, response_metadata={}, id='34d0647b-61b6-4434-9ecd-8617fdce602d'), AIMessage(content='Hello! How can I help you today?', additional_kwargs={}, response_metadata={'prompt_feedback': {'block_reason': 0, 'safety_ratings': []}, 'finish_reason': 'STOP', 'model_name': 'gemini-2.5-flash', 'safety_ratings': []}, id='run--daa9ae67-e618-4064-9dc3-4ceb07f978fd-0', usage_metadata={'input_tokens': 433, 'output_tokens': 9, 'total_tokens': 442, 'input_token_details': {'cache_read': 0}}), HumanMessage(content='hi', additional_kwargs={}, response_metadata={}, id='1c3e7b42-0469-4171-84d8-86e70d30aed0'), AIMessage(content='Hello! How can I help you today?', additional_kwargs={}, response_metadata={'prompt_feedback': {'block_reason': 0, 'safety_ratings': []}, 'finish_reason': 'STOP', 'model_name': 'gemini-2.5-flash', 'safety_ratings': []}, id='run--a60dd9e4-82ab-4df9-ba5e-7f4cdb9d8b62-0', usage_metadata={'input_tokens': 445, 'output_tokens': 9, 'total_tokens': 454, 'input_token_details': {'cache_read': 0}}), HumanMessage(content='1 - 5 ได้เท่าไหร่', additional_kwargs={}, response_metadata={}, id='65e57b39-8af9-4792-9ba7-809e6b829fa9'), AIMessage(content='', additional_kwargs={'function_call': {'name': 'calculator', 'arguments': '{\"ayudar\\\\u00e1\": \"1 - 5\"}'}}, response_metadata={'prompt_feedback': {'block_reason': 0, 'safety_ratings': []}, 'finish_reason': 'STOP', 'model_name': 'gemini-2.5-flash', 'safety_ratings': []}, id='run--567a5699-2d52-45fd-ae3c-c11deb3c69d7-0', tool_calls=[{'name': 'calculator', 'args': {'ayudará': '1 - 5'}, 'id': '1bd00a15-2514-4d26-9734-e0db17adcab4', 'type': 'tool_call'}], usage_metadata={'input_tokens': 464, 'output_tokens': 51, 'total_tokens': 515, 'input_token_details': {'cache_read': 0}, 'output_token_details': {'reasoning': 33}}), ToolMessage(content='ผลลัพธ์: 1 - 5 = -4', name='calculator', id='52544b70-2f26-4126-a975-bf954cc83a14', tool_call_id='1bd00a15-2514-4d26-9734-e0db17adcab4'), AIMessage(content='1 - 5 ได้เท่ากับ -4 ครับ', additional_kwargs={}, response_metadata={'prompt_feedback': {'block_reason': 0, 'safety_ratings': []}, 'finish_reason': 'STOP', 'model_name': 'gemini-2.5-flash', 'safety_ratings': []}, id='run--330f1b96-efc0-4c89-b85e-ad283716bcf6-0', usage_metadata={'input_tokens': 507, 'output_tokens': 10, 'total_tokens': 517, 'input_token_details': {'cache_read': 0}})]}\n"
     ]
    }
   ],
   "source": [
    "config = {\"configurable\": {\"thread_id\": \"222\"}}\n",
    "\n",
    "async def chat(user_input: str, history) -> str:\n",
    "    \"\"\"This function is called when the user sends a message to the chatbot.\"\"\"\n",
    "    result = await graph.ainvoke(\n",
    "        {\"messages\": [{\"role\": \"user\", \"content\": user_input}]}, config=config\n",
    "    )\n",
    "    print(result)\n",
    "    \n",
    "    return result[\"messages\"][-1].content\n",
    "\n",
    "\n",
    "gr.ChatInterface(chat, type=\"messages\").launch()"
   ]
  }
 ],
 "metadata": {
  "kernelspec": {
   "display_name": ".venv",
   "language": "python",
   "name": "python3"
  },
  "language_info": {
   "codemirror_mode": {
    "name": "ipython",
    "version": 3
   },
   "file_extension": ".py",
   "mimetype": "text/x-python",
   "name": "python",
   "nbconvert_exporter": "python",
   "pygments_lexer": "ipython3",
   "version": "3.12.3"
  }
 },
 "nbformat": 4,
 "nbformat_minor": 5
}
