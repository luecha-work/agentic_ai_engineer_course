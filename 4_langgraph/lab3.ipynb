{
 "cells": [
  {
   "cell_type": "code",
   "execution_count": null,
   "id": "68393294",
   "metadata": {},
   "outputs": [],
   "source": [
    "from typing import Annotated\n",
    "from typing_extensions import TypedDict\n",
    "from langgraph.graph import StateGraph, START, END\n",
    "from langgraph.graph.message import add_messages\n",
    "from dotenv import load_dotenv\n",
    "from IPython.display import Image, display\n",
    "import gradio as gr\n",
    "from typing_extensions import TypedDict\n",
    "from langgraph.graph import StateGraph\n",
    "from langgraph.graph.message import add_messages\n",
    "from langgraph.prebuilt import ToolNode, tools_condition\n",
    "import requests\n",
    "import os\n",
    "from langchain.agents import Tool\n",
    "from langchain_google_genai import ChatGoogleGenerativeAI\n",
    "from langgraph.checkpoint.memory import MemorySaver\n",
    "\n",
    "import getpass4\n"
   ]
  },
  {
   "cell_type": "code",
   "execution_count": null,
   "id": "05899a0a",
   "metadata": {},
   "outputs": [],
   "source": [
    "load_dotenv(override=True)\n",
    "\n",
    "if \"GOOGLE_API_KEY\" not in os.environ:\n",
    "    os.environ[\"GOOGLE_API_KEY\"] = getpass4.getpass(\"Enter your Google AI API key: \")"
   ]
  },
  {
   "cell_type": "code",
   "execution_count": null,
   "id": "2c5ca965",
   "metadata": {},
   "outputs": [],
   "source": [
    "llm = ChatGoogleGenerativeAI(\n",
    "    model=\"gemini-2.5-flash\",\n",
    "    temperature=0,\n",
    "    max_tokens=None,\n",
    "    timeout=None,\n",
    "    max_retries=2,\n",
    "    # other params...\n",
    ")"
   ]
  },
  {
   "cell_type": "markdown",
   "id": "7513caef",
   "metadata": {},
   "source": [
    "## Asynchronous LangGraph\n",
    "\n",
    "### To run a tool:\n",
    "- **Sync:** `tool.run(inputs)`\n",
    "- **Async:** `await tool.arun(inputs)`\n",
    "\n",
    "### To invoke the graph:\n",
    "- **Sync:** `graph.invoke(state)`\n",
    "- **Async:** `await graph.ainvoke(state)`\n"
   ]
  },
  {
   "cell_type": "code",
   "execution_count": null,
   "id": "f162c0b3",
   "metadata": {},
   "outputs": [],
   "source": [
    "class State(TypedDict):\n",
    "    messages: Annotated[list, add_messages]\n",
    "    \n",
    "graph_builder = StateGraph(State)"
   ]
  },
  {
   "cell_type": "code",
   "execution_count": null,
   "id": "6fd7c689",
   "metadata": {},
   "outputs": [],
   "source": [
    "from langchain_community.utilities import GoogleSerperAPIWrapper\n",
    "\n",
    "serper = GoogleSerperAPIWrapper()\n",
    "\n",
    "tool_search = Tool(\n",
    "    name=\"search\",\n",
    "    description=\"Useful for when you need more information from an online search\",\n",
    "    func=serper.run,\n",
    ")"
   ]
  },
  {
   "cell_type": "code",
   "execution_count": null,
   "id": "54ccd14c",
   "metadata": {},
   "outputs": [],
   "source": [
    "def calculate_math(expression: str) -> str:\n",
    "    \"\"\"Calculate mathematical expressions safely\"\"\"\n",
    "    try:\n",
    "        # Remove any potentially dangerous characters and evaluate safely\n",
    "        allowed_chars: set[str] = set(\"0123456789+-*/(). \")\n",
    "        if all(c in allowed_chars for c in expression):\n",
    "            result = eval(expression)\n",
    "            return f\"ผลลัพธ์: {expression} = {result}\"\n",
    "        else:\n",
    "            return \"ข้อผิดพลาด: นิพจน์ไม่ถูกต้อง ใช้ได้เฉพาะตัวเลขและเครื่องหมาย +, -, *, /, (, ) เท่านั้น\"\n",
    "    except Exception as e:\n",
    "        return f\"ข้อผิดพลาดในการคำนวณ: {str(e)}\"\n",
    "\n",
    "\n",
    "calculate_tool = Tool(\n",
    "    name=\"calculator\",\n",
    "    func=calculate_math,\n",
    "    description=\"Use this to calculate mathematical expressions. Input should be a valid math expression like '2 + 3 * 4' or '(10 + 5) / 3'\",\n",
    ")\n",
    "\n",
    "calculate_tool.invoke(\"1+2\")"
   ]
  },
  {
   "cell_type": "markdown",
   "id": "2f1c7ac2",
   "metadata": {},
   "source": [
    "## Next: Install Playwright\n",
    "\n",
    "### On Windows and MacOS:\n",
    "```bash\n",
    "playwright install\n",
    "```\n",
    "\n",
    "### On Linux:\n",
    "```bash\n",
    "playwright install --with-deps chromium\n",
    "```\n",
    "\n",
    "Introducing nest_asyncio\n",
    "\n",
    "Python async code only allows for one \"event loop\" processing asynchronous events.\n",
    "\n",
    "The `nest_asyncio` library patches this, and is used for special situations, if you need to run a nested event loop."
   ]
  },
  {
   "cell_type": "code",
   "execution_count": null,
   "id": "69e73991",
   "metadata": {},
   "outputs": [],
   "source": [
    "import nest_asyncio\n",
    "nest_asyncio.apply()"
   ]
  },
  {
   "cell_type": "markdown",
   "id": "73d32975",
   "metadata": {},
   "source": [
    "### The LangChain Community\n",
    "\n",
    "One of the remarkable things about the rich LangChain community around it.\n",
    "\n",
    "Check this out:"
   ]
  },
  {
   "cell_type": "code",
   "execution_count": null,
   "id": "ac9d6c34",
   "metadata": {},
   "outputs": [],
   "source": [
    "import nest_asyncio; nest_asyncio.apply()\n",
    "\n",
    "from playwright.async_api import async_playwright\n",
    "from langchain_community.agent_toolkits import PlayWrightBrowserToolkit\n",
    "\n",
    "async def setup(headless=False):\n",
    "    p = await async_playwright().start()\n",
    "    browser = await p.chromium.launch(headless=headless)\n",
    "    # ใช้ from_browser โดยระบุ async_browser\n",
    "    toolkit = PlayWrightBrowserToolkit.from_browser(async_browser=browser)\n",
    "    tools = toolkit.get_tools()\n",
    "    return tools, browser, p\n",
    "\n",
    "tools, browser, p = await setup(False)\n",
    "\n",
    "# ... ใช้งาน tools ...\n",
    "\n",
    "# ปิดงาน\n",
    "# await browser.close()\n",
    "# await p.stop()\n"
   ]
  },
  {
   "cell_type": "code",
   "execution_count": null,
   "id": "a7b5efe9",
   "metadata": {},
   "outputs": [],
   "source": [
    "for tool in tools:\n",
    "    print(f\"{tool.name}={tool}\")"
   ]
  },
  {
   "cell_type": "code",
   "execution_count": null,
   "id": "3c5e1af0",
   "metadata": {},
   "outputs": [],
   "source": [
    "tools_dict = {tool.name: tool for tool in tools}\n",
    "\n",
    "navigate_tool = tools_dict.get(\"navigate_browser\")\n",
    "extract_text_tool = tools_dict.get(\"extract_text\")\n",
    "\n",
    "await tools_dict[\"navigate_browser\"].arun({\"url\": \"https://cnn.com\"})\n",
    "text = await tools_dict[\"extract_text\"].arun({})\n",
    "\n",
    "# ctx = await browser.new_context(); ctx.set_default_navigation_timeout(60000)\n",
    "# page = await ctx.new_page()\n",
    "# await page.goto(\"https://www.cnn.com\", wait_until=\"domcontentloaded\")\n",
    "# text = await tools_dict[\"extract_text\"].arun({})"
   ]
  },
  {
   "cell_type": "code",
   "execution_count": null,
   "id": "ca744aed",
   "metadata": {},
   "outputs": [],
   "source": [
    "import textwrap\n",
    "\n",
    "print(textwrap.fill(text))"
   ]
  },
  {
   "cell_type": "code",
   "execution_count": null,
   "id": "81d9b7f7",
   "metadata": {},
   "outputs": [],
   "source": [
    "all_tools = tools + [calculate_tool]"
   ]
  },
  {
   "cell_type": "code",
   "execution_count": null,
   "id": "7dbcab1c",
   "metadata": {},
   "outputs": [],
   "source": [
    "llm = ChatGoogleGenerativeAI(\n",
    "    model=\"gemini-2.5-flash\",\n",
    "    temperature=0,\n",
    "    max_tokens=None,\n",
    "    timeout=None,\n",
    "    max_retries=2,\n",
    "    # other params...\n",
    ")\n",
    "\n",
    "llm_with_tools = llm.bind_tools(all_tools)\n",
    "\n",
    "def chatbot(state: State) -> State:\n",
    "    \"\"\"This function is called when the user sends a message to the chatbot.\"\"\"\n",
    "\n",
    "    return {\"messages\": [llm_with_tools.invoke(state[\"messages\"])]}"
   ]
  },
  {
   "cell_type": "code",
   "execution_count": null,
   "id": "ba500cc9",
   "metadata": {},
   "outputs": [],
   "source": [
    "graph_builder = StateGraph(State)\n",
    "graph_builder.add_node(\"chatbot\", chatbot)\n",
    "graph_builder.add_node(\"tools\", ToolNode(tools=all_tools))\n",
    "graph_builder.add_conditional_edges(\n",
    "    \"chatbot\", tools_condition, {\"tools\": \"tools\", \"__end__\": END}\n",
    ")\n",
    "graph_builder.add_edge(\"tools\", \"chatbot\")\n",
    "graph_builder.add_edge(START, \"chatbot\")\n",
    "\n",
    "memory = MemorySaver()\n",
    "graph = graph_builder.compile(checkpointer=memory)\n",
    "display(Image(graph.get_graph().draw_mermaid_png()))\n"
   ]
  },
  {
   "cell_type": "code",
   "execution_count": null,
   "id": "2a8db07c",
   "metadata": {},
   "outputs": [],
   "source": [
    "config = {\"configurable\": {\"thread_id\": \"222\"}}\n",
    "\n",
    "async def chat(user_input: str, history) -> str:\n",
    "    \"\"\"This function is called when the user sends a message to the chatbot.\"\"\"\n",
    "    result = await graph.ainvoke(\n",
    "        {\"messages\": [{\"role\": \"user\", \"content\": user_input}]}, config=config\n",
    "    )\n",
    "    print(result)\n",
    "    \n",
    "    return result[\"messages\"][-1].content\n",
    "\n",
    "\n",
    "gr.ChatInterface(chat, type=\"messages\").launch()"
   ]
  }
 ],
 "metadata": {
  "kernelspec": {
   "display_name": ".venv",
   "language": "python",
   "name": "python3"
  },
  "language_info": {
   "codemirror_mode": {
    "name": "ipython",
    "version": 3
   },
   "file_extension": ".py",
   "mimetype": "text/x-python",
   "name": "python",
   "nbconvert_exporter": "python",
   "pygments_lexer": "ipython3",
   "version": "3.12.3"
  }
 },
 "nbformat": 4,
 "nbformat_minor": 5
}
