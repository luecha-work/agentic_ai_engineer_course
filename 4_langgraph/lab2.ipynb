{
 "cells": [
  {
   "cell_type": "code",
   "execution_count": 6,
   "id": "4a1f58da",
   "metadata": {},
   "outputs": [],
   "source": [
    "from dotenv import load_dotenv\n",
    "\n",
    "from IPython.display import Image, display\n",
    "import gradio as gr\n",
    "\n",
    "from langgraph.graph import StateGraph, START, END\n",
    "from langgraph.graph.message import add_messages\n",
    "from langgraph.prebuilt import ToolNode, tools_condition\n",
    "\n",
    "# from langchain_community.llms import ChatLlama\n",
    "# from langchain_community.chat_models import ChatOllama\n",
    "from langchain_ollama import ChatOllama\n",
    "\n",
    "from typing import Annotated, TypedDict\n",
    "import requests\n",
    "import os"
   ]
  },
  {
   "cell_type": "code",
   "execution_count": 7,
   "id": "c508bfdb",
   "metadata": {},
   "outputs": [
    {
     "data": {
      "text/plain": [
       "True"
      ]
     },
     "execution_count": 7,
     "metadata": {},
     "output_type": "execute_result"
    }
   ],
   "source": [
    "load_dotenv(override=True)"
   ]
  },
  {
   "cell_type": "code",
   "execution_count": null,
   "id": "ba9fd1bc",
   "metadata": {},
   "outputs": [],
   "source": [
    "from langchain_community.utilities import GoogleSerperAPIWrapper\n",
    "from langgraph.checkpoint.memory import MemorySaver\n",
    "\n",
    "serper = GoogleSerperAPIWrapper()\n",
    "# serper.run(\"What is the capital of France?\")\n",
    "\n",
    "memory = MemorySaver()"
   ]
  },
  {
   "cell_type": "code",
   "execution_count": 9,
   "id": "1730d8c2",
   "metadata": {},
   "outputs": [],
   "source": [
    "from langchain.agents import Tool\n",
    "\n",
    "tool_search = Tool(\n",
    "    name=\"search\",\n",
    "    description=\"Useful for when you need more information from an online search\",\n",
    "    func=serper.run\n",
    ")"
   ]
  },
  {
   "cell_type": "code",
   "execution_count": 10,
   "id": "0b3391d3",
   "metadata": {},
   "outputs": [],
   "source": [
    "# tool_search.invoke(\"What is the capital of France?\")"
   ]
  },
  {
   "cell_type": "code",
   "execution_count": 11,
   "id": "bedcec76",
   "metadata": {},
   "outputs": [
    {
     "data": {
      "text/plain": [
       "'ผลลัพธ์: 1+2 = 3'"
      ]
     },
     "execution_count": 11,
     "metadata": {},
     "output_type": "execute_result"
    }
   ],
   "source": [
    "from typing import Any\n",
    "\n",
    "\n",
    "def calculate_math(expression: str) -> str:\n",
    "    \"\"\"Calculate mathematical expressions safely\"\"\"\n",
    "    try:\n",
    "        # Remove any potentially dangerous characters and evaluate safely\n",
    "        allowed_chars: set[str] = set('0123456789+-*/(). ')\n",
    "        if all(c in allowed_chars for c in expression):\n",
    "            result = eval(expression)\n",
    "            return f\"ผลลัพธ์: {expression} = {result}\"\n",
    "        else:\n",
    "            return \"ข้อผิดพลาด: นิพจน์ไม่ถูกต้อง ใช้ได้เฉพาะตัวเลขและเครื่องหมาย +, -, *, /, (, ) เท่านั้น\"\n",
    "    except Exception as e:\n",
    "        return f\"ข้อผิดพลาดในการคำนวณ: {str(e)}\"\n",
    "\n",
    "calculate_tool: Any = Tool(\n",
    "    name=\"calculator\",\n",
    "    func=calculate_math,\n",
    "    description=\"Use this to calculate mathematical expressions. Input should be a valid math expression like '2 + 3 * 4' or '(10 + 5) / 3'\"\n",
    ")\n",
    "\n",
    "calculate_tool.invoke(\"1+2\")"
   ]
  },
  {
   "cell_type": "markdown",
   "id": "d15002d5",
   "metadata": {},
   "source": [
    "#### Create Tools"
   ]
  },
  {
   "cell_type": "code",
   "execution_count": 12,
   "id": "85105b40",
   "metadata": {},
   "outputs": [],
   "source": [
    "tools = [calculate_tool, tool_search]"
   ]
  },
  {
   "cell_type": "markdown",
   "id": "e68dcb66",
   "metadata": {},
   "source": [
    "#### Step 1: Define the State object"
   ]
  },
  {
   "cell_type": "code",
   "execution_count": 13,
   "id": "de961134",
   "metadata": {},
   "outputs": [],
   "source": [
    "class State(TypedDict):\n",
    "    messages: Annotated[list, add_messages]"
   ]
  },
  {
   "cell_type": "markdown",
   "id": "388308aa",
   "metadata": {},
   "source": [
    "#### Step 2: Start the Graph Builder with this State class"
   ]
  },
  {
   "cell_type": "code",
   "execution_count": 14,
   "id": "afb18812",
   "metadata": {},
   "outputs": [],
   "source": [
    "graph_builder = StateGraph(State)"
   ]
  },
  {
   "cell_type": "code",
   "execution_count": 15,
   "id": "31146a2e",
   "metadata": {},
   "outputs": [],
   "source": [
    "llm = ChatOllama(model=\"gpt-oss\")\n",
    "\n",
    "llm_with_tools = llm.bind_tools(tools)"
   ]
  },
  {
   "cell_type": "markdown",
   "id": "cf48b3dc",
   "metadata": {},
   "source": [
    "#### Step 3: Create a Node"
   ]
  },
  {
   "cell_type": "code",
   "execution_count": 16,
   "id": "dc1b4456",
   "metadata": {},
   "outputs": [
    {
     "data": {
      "text/plain": [
       "<langgraph.graph.state.StateGraph at 0x7d971793b8c0>"
      ]
     },
     "execution_count": 16,
     "metadata": {},
     "output_type": "execute_result"
    }
   ],
   "source": [
    "def chatboot(state: State) -> State:\n",
    "    \"\"\"This function is called when the user sends a message to the chatbot.\"\"\"\n",
    "\n",
    "    return {\"messages\": [llm_with_tools.invoke(state[\"messages\"])]}\n",
    "\n",
    "\n",
    "graph_builder.add_node(\"chatboot\", chatboot)\n",
    "graph_builder.add_node(\"tools\", ToolNode(tools=tools))"
   ]
  },
  {
   "cell_type": "markdown",
   "id": "216230f8",
   "metadata": {},
   "source": [
    "### Step 4: Create Edges"
   ]
  },
  {
   "cell_type": "code",
   "execution_count": null,
   "id": "8580b1d0",
   "metadata": {},
   "outputs": [
    {
     "data": {
      "text/plain": [
       "<langgraph.graph.state.StateGraph at 0x7d971793b8c0>"
      ]
     },
     "execution_count": 17,
     "metadata": {},
     "output_type": "execute_result"
    }
   ],
   "source": [
    "graph_builder.add_conditional_edges(\"chatboot\", tools_condition, {\"tools\": \"tools\"})\n",
    "graph_builder.add_edge(\"tools\", \"chatboot\")\n",
    "graph_builder.add_edge(START, \"chatboot\")\n",
    "graph_builder.add_edge(\"chatboot\", END)"
   ]
  },
  {
   "cell_type": "markdown",
   "id": "b44e6644",
   "metadata": {},
   "source": [
    "### Step 5: Compli the Graph"
   ]
  },
  {
   "cell_type": "code",
   "execution_count": 18,
   "id": "0dca1486",
   "metadata": {},
   "outputs": [
    {
     "data": {
      "image/png": "[encoded data removed]",
      "text/plain": [
       "<IPython.core.display.Image object>"
      ]
     },
     "metadata": {},
     "output_type": "display_data"
    }
   ],
   "source": [
    "graph = graph_builder.compile(checkpointer=memory)\n",
    "\n",
    "display(Image(graph.get_graph().draw_mermaid_png()))"
   ]
  },
  {
   "cell_type": "markdown",
   "id": "1ba22478",
   "metadata": {},
   "source": [
    "#### This's is? And, let's do this."
   ]
  },
  {
   "cell_type": "code",
   "execution_count": null,
   "id": "0a4f721f",
   "metadata": {},
   "outputs": [
    {
     "name": "stdout",
     "output_type": "stream",
     "text": [
      "* Running on local URL:  http://127.0.0.1:7860\n",
      "* To create a public link, set `share=True` in `launch()`.\n"
     ]
    },
    {
     "data": {
      "text/html": [
       "<div><iframe src=\"http://127.0.0.1:7860/\" width=\"100%\" height=\"500\" allow=\"autoplay; camera; microphone; clipboard-read; clipboard-write;\" frameborder=\"0\" allowfullscreen></iframe></div>"
      ],
      "text/plain": [
       "<IPython.core.display.HTML object>"
      ]
     },
     "metadata": {},
     "output_type": "display_data"
    },
    {
     "data": {
      "text/plain": []
     },
     "execution_count": 19,
     "metadata": {},
     "output_type": "execute_result"
    }
   ],
   "source": [
    "config = {\"configurable\": {\"thread_id\": \"123\"}}\n",
    "\n",
    "def chat(user_input: str, history) -> str:\n",
    "    \"\"\"This function is called when the user sends a message to the chatbot.\"\"\"\n",
    "    result =graph.invoke({\"messages\": [{\"role\": \"user\", \"content\": user_input}]}, config)\n",
    "    print(result)\n",
    "    return result[\"messages\"][-1].content\n",
    "\n",
    "gr.ChatInterface(chat, type=\"messages\").launch()"
   ]
  },
  {
   "cell_type": "code",
   "execution_count": 20,
   "id": "12b8a9af",
   "metadata": {},
   "outputs": [
    {
     "data": {
      "text/plain": [
       "StateSnapshot(values={}, next=(), config={'configurable': {'thread_id': '123'}}, metadata=None, created_at=None, parent_config=None, tasks=(), interrupts=())"
      ]
     },
     "execution_count": 20,
     "metadata": {},
     "output_type": "execute_result"
    }
   ],
   "source": [
    "graph.get_state(config)"
   ]
  }
 ],
 "metadata": {
  "kernelspec": {
   "display_name": "env",
   "language": "python",
   "name": "python3"
  },
  "language_info": {
   "codemirror_mode": {
    "name": "ipython",
    "version": 3
   },
   "file_extension": ".py",
   "mimetype": "text/x-python",
   "name": "python",
   "nbconvert_exporter": "python",
   "pygments_lexer": "ipython3",
   "version": "3.13.5"
  }
 },
 "nbformat": 4,
 "nbformat_minor": 5
}
