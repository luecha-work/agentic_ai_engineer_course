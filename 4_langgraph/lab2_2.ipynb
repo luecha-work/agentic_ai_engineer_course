{
 "cells": [
  {
   "cell_type": "code",
   "execution_count": 1,
   "id": "4a1f58da",
   "metadata": {},
   "outputs": [
    {
     "name": "stderr",
     "output_type": "stream",
     "text": [
      "/home/luecha-kanm/Documents/Dev/Agintic-AI/agentic_ai_engineer_course/4_langgraph/.venv/lib/python3.12/site-packages/tqdm/auto.py:21: TqdmWarning: IProgress not found. Please update jupyter and ipywidgets. See https://ipywidgets.readthedocs.io/en/stable/user_install.html\n",
      "  from .autonotebook import tqdm as notebook_tqdm\n"
     ]
    }
   ],
   "source": [
    "from dotenv import load_dotenv\n",
    "\n",
    "from IPython.display import Image, display\n",
    "import gradio as gr\n",
    "\n",
    "from langgraph.graph import StateGraph, START, END\n",
    "from langgraph.graph.message import add_messages\n",
    "from langgraph.prebuilt import ToolNode, tools_condition\n",
    "\n",
    "from langchain_ollama import ChatOllama\n",
    "\n",
    "from typing import Annotated, TypedDict\n",
    "import getpass4\n",
    "import os"
   ]
  },
  {
   "cell_type": "code",
   "execution_count": 2,
   "id": "c508bfdb",
   "metadata": {},
   "outputs": [],
   "source": [
    "load_dotenv(override=True)\n",
    "\n",
    "if \"GOOGLE_API_KEY\" not in os.environ:\n",
    "    os.environ[\"GOOGLE_API_KEY\"] = getpass4.getpass(\"Enter your Google AI API key: \")"
   ]
  },
  {
   "cell_type": "code",
   "execution_count": 3,
   "id": "ba9fd1bc",
   "metadata": {},
   "outputs": [],
   "source": [
    "from langchain_community.utilities import GoogleSerperAPIWrapper\n",
    "from langgraph.checkpoint.memory import MemorySaver\n",
    "\n",
    "serper = GoogleSerperAPIWrapper()\n",
    "# serper.run(\"What is the capital of France?\")\n",
    "\n",
    "memory = MemorySaver()"
   ]
  },
  {
   "cell_type": "code",
   "execution_count": 4,
   "id": "1730d8c2",
   "metadata": {},
   "outputs": [],
   "source": [
    "from langchain.agents import Tool\n",
    "\n",
    "tool_search = Tool(\n",
    "    name=\"search\",\n",
    "    description=\"Useful for when you need more information from an online search\",\n",
    "    func=serper.run,\n",
    ")"
   ]
  },
  {
   "cell_type": "code",
   "execution_count": 5,
   "id": "0b3391d3",
   "metadata": {},
   "outputs": [],
   "source": [
    "# tool_search.invoke(\"What is the capital of France?\")"
   ]
  },
  {
   "cell_type": "code",
   "execution_count": 6,
   "id": "bedcec76",
   "metadata": {},
   "outputs": [
    {
     "data": {
      "text/plain": [
       "'ผลลัพธ์: 1+2 = 3'"
      ]
     },
     "execution_count": 6,
     "metadata": {},
     "output_type": "execute_result"
    }
   ],
   "source": [
    "from typing import Any\n",
    "\n",
    "\n",
    "def calculate_math(expression: str) -> str:\n",
    "    \"\"\"Calculate mathematical expressions safely\"\"\"\n",
    "    try:\n",
    "        # Remove any potentially dangerous characters and evaluate safely\n",
    "        allowed_chars: set[str] = set(\"0123456789+-*/(). \")\n",
    "        if all(c in allowed_chars for c in expression):\n",
    "            result = eval(expression)\n",
    "            return f\"ผลลัพธ์: {expression} = {result}\"\n",
    "        else:\n",
    "            return \"ข้อผิดพลาด: นิพจน์ไม่ถูกต้อง ใช้ได้เฉพาะตัวเลขและเครื่องหมาย +, -, *, /, (, ) เท่านั้น\"\n",
    "    except Exception as e:\n",
    "        return f\"ข้อผิดพลาดในการคำนวณ: {str(e)}\"\n",
    "\n",
    "\n",
    "calculate_tool: Any = Tool(\n",
    "    name=\"calculator\",\n",
    "    func=calculate_math,\n",
    "    description=\"Use this to calculate mathematical expressions. Input should be a valid math expression like '2 + 3 * 4' or '(10 + 5) / 3'\",\n",
    ")\n",
    "\n",
    "calculate_tool.invoke(\"1+2\")"
   ]
  },
  {
   "cell_type": "markdown",
   "id": "d15002d5",
   "metadata": {},
   "source": [
    "#### Create Tools\n"
   ]
  },
  {
   "cell_type": "code",
   "execution_count": 7,
   "id": "85105b40",
   "metadata": {},
   "outputs": [],
   "source": [
    "tools = [calculate_tool, tool_search]"
   ]
  },
  {
   "cell_type": "markdown",
   "id": "e68dcb66",
   "metadata": {},
   "source": [
    "#### Step 1: Define the State object\n"
   ]
  },
  {
   "cell_type": "code",
   "execution_count": 8,
   "id": "de961134",
   "metadata": {},
   "outputs": [],
   "source": [
    "class State(TypedDict):\n",
    "    messages: Annotated[list, add_messages]"
   ]
  },
  {
   "cell_type": "markdown",
   "id": "388308aa",
   "metadata": {},
   "source": [
    "#### Step 2: Start the Graph Builder with this State class\n"
   ]
  },
  {
   "cell_type": "code",
   "execution_count": 9,
   "id": "afb18812",
   "metadata": {},
   "outputs": [],
   "source": [
    "graph_builder = StateGraph(State)"
   ]
  },
  {
   "cell_type": "code",
   "execution_count": 10,
   "id": "31146a2e",
   "metadata": {},
   "outputs": [],
   "source": [
    "llm = ChatOllama(model=\"gpt-oss\")\n",
    "\n",
    "llm_with_tools = llm.bind_tools(tools)"
   ]
  },
  {
   "cell_type": "markdown",
   "id": "cf48b3dc",
   "metadata": {},
   "source": [
    "#### Step 3: Create a Node\n"
   ]
  },
  {
   "cell_type": "code",
   "execution_count": 11,
   "id": "dc1b4456",
   "metadata": {},
   "outputs": [
    {
     "data": {
      "text/plain": [
       "<langgraph.graph.state.StateGraph at 0x7f4bbc0158b0>"
      ]
     },
     "execution_count": 11,
     "metadata": {},
     "output_type": "execute_result"
    }
   ],
   "source": [
    "def chatbot(state: State) -> State:\n",
    "    \"\"\"This function is called when the user sends a message to the chatbot.\"\"\"\n",
    "\n",
    "    return {\"messages\": [llm_with_tools.invoke(state[\"messages\"])]}\n",
    "\n",
    "\n",
    "graph_builder.add_node(\"chatbot\", chatbot)\n",
    "graph_builder.add_node(\"tools\", ToolNode(tools=tools))"
   ]
  },
  {
   "cell_type": "markdown",
   "id": "216230f8",
   "metadata": {},
   "source": [
    "### Step 4: Create Edges\n"
   ]
  },
  {
   "cell_type": "code",
   "execution_count": 12,
   "id": "8580b1d0",
   "metadata": {},
   "outputs": [
    {
     "data": {
      "text/plain": [
       "<langgraph.graph.state.StateGraph at 0x7f4bbc0158b0>"
      ]
     },
     "execution_count": 12,
     "metadata": {},
     "output_type": "execute_result"
    }
   ],
   "source": [
    "graph_builder.add_conditional_edges(\"chatbot\", tools_condition, {\"tools\": \"tools\"})\n",
    "graph_builder.add_edge(\"tools\", \"chatbot\")\n",
    "graph_builder.add_edge(START, \"chatbot\")\n",
    "graph_builder.add_edge(\"chatbot\", END)"
   ]
  },
  {
   "cell_type": "markdown",
   "id": "b44e6644",
   "metadata": {},
   "source": [
    "### Step 5: Compli the Graph\n"
   ]
  },
  {
   "cell_type": "code",
   "execution_count": 13,
   "id": "0dca1486",
   "metadata": {},
   "outputs": [
    {
     "data": {
      "image/png": "[encoded data removed]",
      "text/plain": [
       "<IPython.core.display.Image object>"
      ]
     },
     "metadata": {},
     "output_type": "display_data"
    }
   ],
   "source": [
    "graph = graph_builder.compile(checkpointer=memory)\n",
    "\n",
    "display(Image(graph.get_graph().draw_mermaid_png()))"
   ]
  },
  {
   "cell_type": "markdown",
   "id": "1ba22478",
   "metadata": {},
   "source": [
    "#### This's is? And, let's do this.\n"
   ]
  },
  {
   "cell_type": "code",
   "execution_count": 14,
   "id": "0a4f721f",
   "metadata": {},
   "outputs": [
    {
     "name": "stdout",
     "output_type": "stream",
     "text": [
      "* Running on local URL:  http://127.0.0.1:7876\n",
      "* To create a public link, set `share=True` in `launch()`.\n"
     ]
    },
    {
     "data": {
      "text/html": [
       "<div><iframe src=\"http://127.0.0.1:7876/\" width=\"100%\" height=\"500\" allow=\"autoplay; camera; microphone; clipboard-read; clipboard-write;\" frameborder=\"0\" allowfullscreen></iframe></div>"
      ],
      "text/plain": [
       "<IPython.core.display.HTML object>"
      ]
     },
     "metadata": {},
     "output_type": "display_data"
    },
    {
     "data": {
      "text/plain": []
     },
     "execution_count": 14,
     "metadata": {},
     "output_type": "execute_result"
    }
   ],
   "source": [
    "config = {\"configurable\": {\"thread_id\": \"123\"}}\n",
    "\n",
    "def chat(user_input: str, history) -> str:\n",
    "    \"\"\"This function is called when the user sends a message to the chatbot.\"\"\"\n",
    "    result = graph.invoke(\n",
    "        {\"messages\": [{\"role\": \"user\", \"content\": user_input}]}, config=config\n",
    "    )\n",
    "    print(result)\n",
    "    \n",
    "    return result[\"messages\"][-1].content\n",
    "\n",
    "\n",
    "\n",
    "gr.ChatInterface(chat, type=\"messages\").launch()"
   ]
  },
  {
   "cell_type": "code",
   "execution_count": 15,
   "id": "12b8a9af",
   "metadata": {},
   "outputs": [
    {
     "data": {
      "text/plain": [
       "StateSnapshot(values={}, next=(), config={'configurable': {'thread_id': '123'}}, metadata=None, created_at=None, parent_config=None, tasks=(), interrupts=())"
      ]
     },
     "execution_count": 15,
     "metadata": {},
     "output_type": "execute_result"
    }
   ],
   "source": [
    "graph.get_state(config)"
   ]
  },
  {
   "cell_type": "code",
   "execution_count": 16,
   "id": "119a096a",
   "metadata": {},
   "outputs": [
    {
     "data": {
      "text/plain": [
       "[]"
      ]
     },
     "execution_count": 16,
     "metadata": {},
     "output_type": "execute_result"
    }
   ],
   "source": [
    "list(graph.get_state_history(config))"
   ]
  },
  {
   "cell_type": "markdown",
   "id": "dc263292",
   "metadata": {},
   "source": [
    "## OK it's time to add Memory!\n",
    "\n",
    "### BUT WAIT!\n",
    "\n",
    "We have this whole Graph maintaining the state and appending to the state.  \n",
    "**Why isn't this handling memory?**\n",
    "\n",
    "---\n",
    "\n",
    "## This is a crucial point for understanding LangGraph\n",
    "\n",
    "> A super-step can be considered a single iteration over the graph nodes.  \n",
    "> Nodes that run in parallel are part of the same super-step,  \n",
    "> while nodes that run sequentially belong to separate super-steps.\n",
    "\n",
    "- One **\"Super-Step\"** of the graph represents one invocation of passing messages between agents.\n",
    "- In idiomatic LangGraph, you call `invoke()` to run your graph for each super-step; for each interaction.\n",
    "- The reducer handles state updates automatically **within one super-step**, but **not between them**.\n",
    "\n",
    "That is what **checkpointing** achieves.\n"
   ]
  },
  {
   "cell_type": "code",
   "execution_count": 17,
   "id": "4f42dec3",
   "metadata": {},
   "outputs": [],
   "source": [
    "from langgraph.checkpoint.memory import MemorySaver\n",
    "\n",
    "memory: MemorySaver = MemorySaver()"
   ]
  },
  {
   "cell_type": "code",
   "execution_count": 18,
   "id": "361132c3",
   "metadata": {},
   "outputs": [
    {
     "data": {
      "image/png": "[encoded data removed]",
      "text/plain": [
       "<IPython.core.display.Image object>"
      ]
     },
     "metadata": {},
     "output_type": "display_data"
    }
   ],
   "source": [
    "graph_builder = StateGraph(State)\n",
    "\n",
    "llm = ChatOllama(model=\"llama3.1\")\n",
    "\n",
    "llm_with_tools = llm.bind_tools(tools)\n",
    "\n",
    "\n",
    "def chatbot(state: State) -> State:\n",
    "    \"\"\"This function is called when the user sends a message to the chatbot.\"\"\"\n",
    "\n",
    "    return {\"messages\": [llm_with_tools.invoke(state[\"messages\"])]}\n",
    "\n",
    "\n",
    "graph_builder.add_node(\"chatbot\", chatbot)\n",
    "graph_builder.add_node(\"tools\", ToolNode(tools=tools))\n",
    "\n",
    "graph_builder.add_conditional_edges(\"chatbot\", tools_condition, {\"tools\": \"tools\"})\n",
    "graph_builder.add_edge(\"tools\", \"chatbot\")\n",
    "graph_builder.add_edge(START, \"chatbot\")\n",
    "# graph_builder.add_edge(\"chatbot\", END)\n",
    "\n",
    "graph = graph_builder.compile(checkpointer=memory)\n",
    "\n",
    "display(Image(graph.get_graph().draw_mermaid_png()))"
   ]
  },
  {
   "cell_type": "code",
   "execution_count": 19,
   "id": "8bf4d0f9",
   "metadata": {},
   "outputs": [
    {
     "name": "stdout",
     "output_type": "stream",
     "text": [
      "* Running on local URL:  http://127.0.0.1:7877\n",
      "* To create a public link, set `share=True` in `launch()`.\n"
     ]
    },
    {
     "data": {
      "text/html": [
       "<div><iframe src=\"http://127.0.0.1:7877/\" width=\"100%\" height=\"500\" allow=\"autoplay; camera; microphone; clipboard-read; clipboard-write;\" frameborder=\"0\" allowfullscreen></iframe></div>"
      ],
      "text/plain": [
       "<IPython.core.display.HTML object>"
      ]
     },
     "metadata": {},
     "output_type": "display_data"
    },
    {
     "data": {
      "text/plain": []
     },
     "execution_count": 19,
     "metadata": {},
     "output_type": "execute_result"
    }
   ],
   "source": [
    "config = {\"configurable\": {\"thread_id\": \"222\"}}\n",
    "\n",
    "def chat(user_input: str, history) -> str:\n",
    "    \"\"\"This function is called when the user sends a message to the chatbot.\"\"\"\n",
    "    result = graph.invoke(\n",
    "        {\"messages\": [{\"role\": \"user\", \"content\": user_input}]}, config=config\n",
    "    )\n",
    "    print(result)\n",
    "    \n",
    "    return result[\"messages\"][-1].content\n",
    "\n",
    "\n",
    "gr.ChatInterface(chat, type=\"messages\").launch()"
   ]
  },
  {
   "cell_type": "markdown",
   "id": "1fcf8cfc",
   "metadata": {},
   "source": [
    "### LangChain gives you tools to set the state back to a prior point in time, to branch off:\n",
    "\n",
    "```\n",
    "config = {\"configurable\": {\"thread_id\": \"1\", \"checkpoint_id\": ...}}\n",
    "graph.invoke(None, config=config)\n",
    "```\n",
    "\n",
    "And this allows you to build stable systems that can be recovered and rerun from any prior checkpoint.\n",
    "\n",
    "And now let's store in SQL\n",
    "\n",
    "And this is the power of LangGraph.\n"
   ]
  },
  {
   "cell_type": "code",
   "execution_count": 23,
   "id": "fc7dc458",
   "metadata": {},
   "outputs": [],
   "source": [
    "import sqlite3\n",
    "from langchain_google_genai import ChatGoogleGenerativeAI\n",
    "from langgraph.checkpoint.sqlite import SqliteSaver\n",
    "\n",
    "\n",
    "db_path = \"memory.db\"\n",
    "conn = sqlite3.connect(db_path, check_same_thread=False)\n",
    "sql_memory = SqliteSaver(conn)"
   ]
  },
  {
   "cell_type": "code",
   "execution_count": null,
   "id": "37aafb56",
   "metadata": {},
   "outputs": [
    {
     "ename": "ValueError",
     "evalue": "Graph must have an entrypoint: add at least one edge from START to another node",
     "output_type": "error",
     "traceback": [
      "\u001b[31m---------------------------------------------------------------------------\u001b[39m",
      "\u001b[31mValueError\u001b[39m                                Traceback (most recent call last)",
      "\u001b[36mCell\u001b[39m\u001b[36m \u001b[39m\u001b[32mIn[27]\u001b[39m\u001b[32m, line 38\u001b[39m\n\u001b[32m     30\u001b[39m graph_builder.add_edge(\u001b[33m\"\u001b[39m\u001b[33mtools\u001b[39m\u001b[33m\"\u001b[39m, \u001b[33m\"\u001b[39m\u001b[33mchatbot\u001b[39m\u001b[33m\"\u001b[39m)\n\u001b[32m     31\u001b[39m \u001b[38;5;66;03m# graph_builder.add_edge(START, \"chatbot\")\u001b[39;00m\n\u001b[32m     32\u001b[39m \n\u001b[32m     33\u001b[39m \u001b[38;5;66;03m# graph_builder.add_conditional_edges(\"chatbot\", tools_condition, {\"tools\": \"tools\"})\u001b[39;00m\n\u001b[32m   (...)\u001b[39m\u001b[32m     36\u001b[39m \n\u001b[32m     37\u001b[39m \u001b[38;5;66;03m# Step 5\u001b[39;00m\n\u001b[32m---> \u001b[39m\u001b[32m38\u001b[39m graph = \u001b[43mgraph_builder\u001b[49m\u001b[43m.\u001b[49m\u001b[43mcompile\u001b[49m\u001b[43m(\u001b[49m\u001b[43mcheckpointer\u001b[49m\u001b[43m=\u001b[49m\u001b[43msql_memory\u001b[49m\u001b[43m)\u001b[49m\n\u001b[32m     39\u001b[39m display(Image(graph.get_graph().draw_mermaid_png()))\n",
      "\u001b[36mFile \u001b[39m\u001b[32m~/Documents/Dev/Agintic-AI/agentic_ai_engineer_course/4_langgraph/.venv/lib/python3.12/site-packages/langgraph/graph/state.py:829\u001b[39m, in \u001b[36mStateGraph.compile\u001b[39m\u001b[34m(self, checkpointer, cache, store, interrupt_before, interrupt_after, debug, name)\u001b[39m\n\u001b[32m    826\u001b[39m interrupt_after = interrupt_after \u001b[38;5;129;01mor\u001b[39;00m []\n\u001b[32m    828\u001b[39m \u001b[38;5;66;03m# validate the graph\u001b[39;00m\n\u001b[32m--> \u001b[39m\u001b[32m829\u001b[39m \u001b[38;5;28;43mself\u001b[39;49m\u001b[43m.\u001b[49m\u001b[43mvalidate\u001b[49m\u001b[43m(\u001b[49m\n\u001b[32m    830\u001b[39m \u001b[43m    \u001b[49m\u001b[43minterrupt\u001b[49m\u001b[43m=\u001b[49m\u001b[43m(\u001b[49m\n\u001b[32m    831\u001b[39m \u001b[43m        \u001b[49m\u001b[43m(\u001b[49m\u001b[43minterrupt_before\u001b[49m\u001b[43m \u001b[49m\u001b[38;5;28;43;01mif\u001b[39;49;00m\u001b[43m \u001b[49m\u001b[43minterrupt_before\u001b[49m\u001b[43m \u001b[49m\u001b[43m!=\u001b[49m\u001b[43m \u001b[49m\u001b[33;43m\"\u001b[39;49m\u001b[33;43m*\u001b[39;49m\u001b[33;43m\"\u001b[39;49m\u001b[43m \u001b[49m\u001b[38;5;28;43;01melse\u001b[39;49;00m\u001b[43m \u001b[49m\u001b[43m[\u001b[49m\u001b[43m]\u001b[49m\u001b[43m)\u001b[49m\u001b[43m \u001b[49m\u001b[43m+\u001b[49m\u001b[43m \u001b[49m\u001b[43minterrupt_after\u001b[49m\n\u001b[32m    832\u001b[39m \u001b[43m        \u001b[49m\u001b[38;5;28;43;01mif\u001b[39;49;00m\u001b[43m \u001b[49m\u001b[43minterrupt_after\u001b[49m\u001b[43m \u001b[49m\u001b[43m!=\u001b[49m\u001b[43m \u001b[49m\u001b[33;43m\"\u001b[39;49m\u001b[33;43m*\u001b[39;49m\u001b[33;43m\"\u001b[39;49m\n\u001b[32m    833\u001b[39m \u001b[43m        \u001b[49m\u001b[38;5;28;43;01melse\u001b[39;49;00m\u001b[43m \u001b[49m\u001b[43m[\u001b[49m\u001b[43m]\u001b[49m\n\u001b[32m    834\u001b[39m \u001b[43m    \u001b[49m\u001b[43m)\u001b[49m\n\u001b[32m    835\u001b[39m \u001b[43m\u001b[49m\u001b[43m)\u001b[49m\n\u001b[32m    837\u001b[39m \u001b[38;5;66;03m# prepare output channels\u001b[39;00m\n\u001b[32m    838\u001b[39m output_channels = (\n\u001b[32m    839\u001b[39m     \u001b[33m\"\u001b[39m\u001b[33m__root__\u001b[39m\u001b[33m\"\u001b[39m\n\u001b[32m    840\u001b[39m     \u001b[38;5;28;01mif\u001b[39;00m \u001b[38;5;28mlen\u001b[39m(\u001b[38;5;28mself\u001b[39m.schemas[\u001b[38;5;28mself\u001b[39m.output_schema]) == \u001b[32m1\u001b[39m\n\u001b[32m   (...)\u001b[39m\u001b[32m    846\u001b[39m     ]\n\u001b[32m    847\u001b[39m )\n",
      "\u001b[36mFile \u001b[39m\u001b[32m~/Documents/Dev/Agintic-AI/agentic_ai_engineer_course/4_langgraph/.venv/lib/python3.12/site-packages/langgraph/graph/state.py:759\u001b[39m, in \u001b[36mStateGraph.validate\u001b[39m\u001b[34m(self, interrupt)\u001b[39m\n\u001b[32m    756\u001b[39m         \u001b[38;5;28;01mraise\u001b[39;00m \u001b[38;5;167;01mValueError\u001b[39;00m(\u001b[33mf\u001b[39m\u001b[33m\"\u001b[39m\u001b[33mFound edge starting at unknown node \u001b[39m\u001b[33m'\u001b[39m\u001b[38;5;132;01m{\u001b[39;00msource\u001b[38;5;132;01m}\u001b[39;00m\u001b[33m'\u001b[39m\u001b[33m\"\u001b[39m)\n\u001b[32m    758\u001b[39m \u001b[38;5;28;01mif\u001b[39;00m START \u001b[38;5;129;01mnot\u001b[39;00m \u001b[38;5;129;01min\u001b[39;00m all_sources:\n\u001b[32m--> \u001b[39m\u001b[32m759\u001b[39m     \u001b[38;5;28;01mraise\u001b[39;00m \u001b[38;5;167;01mValueError\u001b[39;00m(\n\u001b[32m    760\u001b[39m         \u001b[33m\"\u001b[39m\u001b[33mGraph must have an entrypoint: add at least one edge from START to another node\u001b[39m\u001b[33m\"\u001b[39m\n\u001b[32m    761\u001b[39m     )\n\u001b[32m    763\u001b[39m \u001b[38;5;66;03m# assemble targets\u001b[39;00m\n\u001b[32m    764\u001b[39m all_targets = {end \u001b[38;5;28;01mfor\u001b[39;00m _, end \u001b[38;5;129;01min\u001b[39;00m \u001b[38;5;28mself\u001b[39m._all_edges}\n",
      "\u001b[31mValueError\u001b[39m: Graph must have an entrypoint: add at least one edge from START to another node"
     ]
    }
   ],
   "source": [
    "# Steps 1 and 2\n",
    "graph_builder = StateGraph(State)\n",
    "\n",
    "# Step 3\n",
    "llm = ChatGoogleGenerativeAI(\n",
    "    model=\"gemini-2.5-flash\",\n",
    "    temperature=0,\n",
    "    max_tokens=None,\n",
    "    timeout=None,\n",
    "    max_retries=2,\n",
    "    # other params...\n",
    ")\n",
    "\n",
    "llm_with_tools = llm.bind_tools(tools)\n",
    "\n",
    "\n",
    "def chatbot(state: State):\n",
    "    print(state)\n",
    "    return {\"messages\": [llm_with_tools.invoke(state[\"messages\"])]}\n",
    "\n",
    "\n",
    "graph_builder.add_node(\"chatbot\", chatbot)\n",
    "graph_builder.add_node(\"tools\", ToolNode(tools=tools))\n",
    "\n",
    "# Step 4\n",
    "# graph_builder.add_conditional_edges(\"chatbot\", tools_condition, {\"tools\": \"tools\"})\n",
    "graph_builder.add_conditional_edges(\n",
    "    \"chatbot\", tools_condition, {\"tools\": \"tools\", \"__end__\": END}\n",
    ")\n",
    "graph_builder.add_edge(\"tools\", \"chatbot\")\n",
    "graph_builder.add_edge(START, \"chatbot\")\n",
    "\n",
    "# graph_builder.add_conditional_edges(\"chatbot\", tools_condition, {\"tools\": \"tools\"})\n",
    "# graph_builder.add_edge(\"tools\", \"chatbot\")\n",
    "# graph_builder.add_edge(START, \"chatbot\")\n",
    "\n",
    "# Step 5\n",
    "graph = graph_builder.compile(checkpointer=sql_memory)\n",
    "display(Image(graph.get_graph().draw_mermaid_png()))"
   ]
  },
  {
   "cell_type": "code",
   "execution_count": 25,
   "id": "0dad70a1",
   "metadata": {},
   "outputs": [
    {
     "name": "stdout",
     "output_type": "stream",
     "text": [
      "* Running on local URL:  http://127.0.0.1:7879\n",
      "* To create a public link, set `share=True` in `launch()`.\n"
     ]
    },
    {
     "data": {
      "text/html": [
       "<div><iframe src=\"http://127.0.0.1:7879/\" width=\"100%\" height=\"500\" allow=\"autoplay; camera; microphone; clipboard-read; clipboard-write;\" frameborder=\"0\" allowfullscreen></iframe></div>"
      ],
      "text/plain": [
       "<IPython.core.display.HTML object>"
      ]
     },
     "metadata": {},
     "output_type": "display_data"
    },
    {
     "data": {
      "text/plain": []
     },
     "execution_count": 25,
     "metadata": {},
     "output_type": "execute_result"
    },
    {
     "name": "stdout",
     "output_type": "stream",
     "text": [
      "{'messages': [HumanMessage(content='hi', additional_kwargs={}, response_metadata={}, id='43ea930d-b60d-4eaf-930b-bb508b25367d'), HumanMessage(content='hi', additional_kwargs={}, response_metadata={}, id='aafddae8-7326-4f3e-8fd7-f39a3e81591f'), HumanMessage(content='hi', additional_kwargs={}, response_metadata={}, id='0f1d1589-02f7-4a71-a57f-e7c88b45dd12'), AIMessage(content='<think>\\nOkay, the user just said \"hi\" again. Let me check the history. The previous message was also \"hi\". Maybe they\\'re testing if I\\'m responsive or want to start a conversation. Since there\\'s no specific question or request, I should greet them back and offer assistance. Let me keep it friendly and open-ended. Something like, \"Hello! How can I assist you today?\" That should encourage them to ask something more concrete.\\n</think>\\n\\nHello! How can I assist you today?', additional_kwargs={}, response_metadata={'model': 'qwen3', 'created_at': '2025-09-06T10:58:45.410320203Z', 'done': True, 'done_reason': 'stop', 'total_duration': 36936733174, 'load_duration': 118967401, 'prompt_eval_count': 231, 'prompt_eval_duration': 1126382300, 'eval_count': 104, 'eval_duration': 35678424983, 'model_name': 'qwen3'}, id='run--9509233f-a65e-45ef-a9b9-1eda0f1fa0b2-0', usage_metadata={'input_tokens': 231, 'output_tokens': 104, 'total_tokens': 335}), HumanMessage(content='hi', additional_kwargs={}, response_metadata={}, id='5c1a07c3-d643-4300-970f-7a475d0b7098'), AIMessage(content='<think>\\nOkay, the user just said \"hi\" again. Let me check the history. Previously, they also sent \"hi\" and the assistant responded with a greeting. Maybe the user is testing if I\\'m responsive or wants to start a conversation. Since there\\'s no specific query, I should keep it friendly and open. Let me greet them again and offer help. That way, I\\'m polite and encourage them to ask something more concrete.\\n</think>\\n\\nHello again! How can I assist you today? 😊', additional_kwargs={}, response_metadata={'model': 'qwen3', 'created_at': '2025-09-06T10:59:43.426985711Z', 'done': True, 'done_reason': 'stop', 'total_duration': 42325438661, 'load_duration': 107997479, 'prompt_eval_count': 251, 'prompt_eval_duration': 2846973313, 'eval_count': 105, 'eval_duration': 39340349835, 'model_name': 'qwen3'}, id='run--c8bbdf32-3f36-4105-baca-eeeaae6e8954-0', usage_metadata={'input_tokens': 251, 'output_tokens': 105, 'total_tokens': 356}), HumanMessage(content='hi', additional_kwargs={}, response_metadata={}, id='4065e113-0d3d-4774-822b-da2a86ec1ccf'), AIMessage(content='<think>\\nOkay, the user said \"hi\" again. They might just be testing or trying to get a response. I should keep it friendly and open. Let me greet them again and ask how I can help. Maybe they have a question or need assistance. I\\'ll stay welcoming and ready to help.\\n</think>\\n\\nHello! How can I assist you today? 😊', additional_kwargs={}, response_metadata={'model': 'qwen3', 'created_at': '2025-09-06T11:02:45.338688161Z', 'done': True, 'done_reason': 'stop', 'total_duration': 31670723181, 'load_duration': 131915617, 'prompt_eval_count': 274, 'prompt_eval_duration': 3307673123, 'eval_count': 76, 'eval_duration': 28171194017, 'model_name': 'qwen3'}, id='run--545894d3-82f2-4562-a017-a66df98cb58e-0', usage_metadata={'input_tokens': 274, 'output_tokens': 76, 'total_tokens': 350}), HumanMessage(content='my name is luecha kanmaneekul', additional_kwargs={}, response_metadata={}, id='d9229f88-b65c-4449-9a5f-1f2d3834fd41'), AIMessage(content=\"<think>\\nOkay, the user introduced themselves as Luecha Kanmaneekul. I should respond politely and ask how I can assist them. Let me make sure to use a friendly tone and offer help with anything they need. No functions are required here since it's just a greeting. Keep it simple and welcoming.\\n</think>\\n\\nHello, Luecha! 😊 How can I assist you today? Let me know if you need help with anything!\", additional_kwargs={}, response_metadata={'model': 'qwen3', 'created_at': '2025-09-06T15:23:19.929620625Z', 'done': True, 'done_reason': 'stop', 'total_duration': 99180972049, 'load_duration': 14401208404, 'prompt_eval_count': 306, 'prompt_eval_duration': 46973148017, 'eval_count': 93, 'eval_duration': 37726762524, 'model_name': 'qwen3'}, id='run--664e2d6f-fd78-46b5-86b6-71bd7794d7c2-0', usage_metadata={'input_tokens': 306, 'output_tokens': 93, 'total_tokens': 399}), HumanMessage(content='what my name?', additional_kwargs={}, response_metadata={}, id='143558d4-f5da-4275-95a6-27181548f2f1'), AIMessage(content='<think>\\nOkay, the user asked \"what my name?\" after I already knew their name was Luecha Kanmaneekul. Let me check the conversation history.\\n\\nLooking back, the user introduced themselves as Luecha Kanmaneekul. So, I should confirm their name again. But maybe they\\'re testing if I remember or if there\\'s a mistake. I need to make sure to respond correctly. Since I have their name from earlier, I should just restate it politely. No need for a tool call here. Just a friendly confirmation.\\n</think>\\n\\nYour name is Luecha Kanmaneekul! 😊 How can I assist you today?', additional_kwargs={}, response_metadata={'model': 'qwen3', 'created_at': '2025-09-06T15:24:45.59287679Z', 'done': True, 'done_reason': 'stop', 'total_duration': 72032693770, 'load_duration': 113048310, 'prompt_eval_count': 345, 'prompt_eval_duration': 6045483392, 'eval_count': 138, 'eval_duration': 65765514178, 'model_name': 'qwen3'}, id='run--acce14a5-a28c-4ec1-95b1-1da9ef0f50f9-0', usage_metadata={'input_tokens': 345, 'output_tokens': 138, 'total_tokens': 483}), HumanMessage(content='what my name?', additional_kwargs={}, response_metadata={}, id='5ab9fbdb-baa2-443d-82df-00d999d59dd7'), AIMessage(content='<think>\\nOkay, the user is asking \"what my name?\" again. Let me check the conversation history.\\n\\nEarlier, the user told me their name is Luecha Kanmaneekul. I confirmed it and said hello. Now they\\'re asking again. Maybe they want to make sure or test if I remember. \\n\\nI should respond by repeating their name to confirm. Keep it friendly and offer help again. No need for any tool calls here since the information is already provided. Just a straightforward reply.\\n</think>\\n\\nYour name is Luecha Kanmaneekul! 😊 How can I assist you today?', additional_kwargs={}, response_metadata={'model': 'qwen3', 'created_at': '2025-09-06T15:26:03.763808921Z', 'done': True, 'done_reason': 'stop', 'total_duration': 41587437475, 'load_duration': 119181658, 'prompt_eval_count': 380, 'prompt_eval_duration': 4885663965, 'eval_count': 127, 'eval_duration': 36410139803, 'model_name': 'qwen3'}, id='run--ebff12e0-31dc-4fd4-afd6-840ee43dbe70-0', usage_metadata={'input_tokens': 380, 'output_tokens': 127, 'total_tokens': 507}), HumanMessage(content='hi', additional_kwargs={}, response_metadata={}, id='c09ee4a5-a833-48f5-a45e-6eba7d69370f'), AIMessage(content='', additional_kwargs={}, response_metadata={'model': 'llama3.1', 'created_at': '2025-09-06T15:32:15.468737869Z', 'done': True, 'done_reason': 'stop', 'total_duration': 135142157890, 'load_duration': 147912994, 'prompt_eval_count': 975, 'prompt_eval_duration': 129049416229, 'eval_count': 17, 'eval_duration': 5915154543, 'model_name': 'llama3.1'}, id='run--609604a5-49ea-40c6-9a60-269e70ec41c2-0', tool_calls=[{'name': 'search', 'args': {'__arg1': ''}, 'id': '664ec504-d021-49f7-85f0-b32432c2a609', 'type': 'tool_call'}], usage_metadata={'input_tokens': 975, 'output_tokens': 17, 'total_tokens': 992}), ToolMessage(content=\"Error: HTTPError('400 Client Error: Bad Request for url: https://google.serper.dev/search?q=&gl=us&hl=en&num=10')\\n Please fix your mistakes.\", name='search', id='cf7b60f7-4b83-4233-b035-f62f72b04ed1', tool_call_id='664ec504-d021-49f7-85f0-b32432c2a609', status='error'), AIMessage(content='<fix the mistake>\\n\\nOkay, it seems like the user just said \"hi\" again. They\\'re likely trying to keep the conversation going or test if I\\'m still active.\\n\\nI should respond politely and ask how I can assist them. Maybe they have a question or need help with something specific. No new functions are required here since it\\'s just another greeting.\\n</think>\\n\\nHello! How can I assist you today?', additional_kwargs={}, response_metadata={'model': 'llama3.1', 'created_at': '2025-09-06T15:33:05.887536474Z', 'done': True, 'done_reason': 'stop', 'total_duration': 49789098779, 'load_duration': 192176370, 'prompt_eval_count': 858, 'prompt_eval_duration': 10940052360, 'eval_count': 86, 'eval_duration': 38626428468, 'model_name': 'llama3.1'}, id='run--cb717095-af9e-43f3-b13b-292145fa49d6-0', usage_metadata={'input_tokens': 858, 'output_tokens': 86, 'total_tokens': 944}), HumanMessage(content='hi', additional_kwargs={}, response_metadata={}, id='89c6d3d2-36aa-4edc-8d83-57ba0004160e'), AIMessage(content='', additional_kwargs={}, response_metadata={'model': 'llama3.1', 'created_at': '2025-09-06T15:43:23.874640477Z', 'done': True, 'done_reason': 'stop', 'total_duration': 208647350200, 'load_duration': 13065276116, 'prompt_eval_count': 1136, 'prompt_eval_duration': 185903381188, 'eval_count': 17, 'eval_duration': 9630435241, 'model_name': 'llama3.1'}, id='run--66474b0c-bbff-4843-947b-60dddb8a89e0-0', tool_calls=[{'name': 'search', 'args': {'__arg1': ''}, 'id': 'a52ccbca-bb73-4e90-b51a-049fb92cc7e0', 'type': 'tool_call'}], usage_metadata={'input_tokens': 1136, 'output_tokens': 17, 'total_tokens': 1153}), ToolMessage(content=\"Error: HTTPError('400 Client Error: Bad Request for url: https://google.serper.dev/search?q=&gl=us&hl=en&num=10')\\n Please fix your mistakes.\", name='search', id='612cb17a-15b0-4f66-a02b-e17946d6d164', tool_call_id='a52ccbca-bb73-4e90-b51a-049fb92cc7e0', status='error'), HumanMessage(content='hi', additional_kwargs={}, response_metadata={}, id='5cebe002-8dd0-4cba-97e1-7c56d311d884'), HumanMessage(content='hi', additional_kwargs={}, response_metadata={}, id='0d88caff-0ffb-4764-ab4c-9fa44f0267db')]}\n"
     ]
    },
    {
     "name": "stderr",
     "output_type": "stream",
     "text": [
      "Traceback (most recent call last):\n",
      "  File \"/home/luecha-kanm/Documents/Dev/Agintic-AI/agentic_ai_engineer_course/4_langgraph/.venv/lib/python3.12/site-packages/gradio/queueing.py\", line 667, in process_events\n",
      "    response = await route_utils.call_process_api(\n",
      "               ^^^^^^^^^^^^^^^^^^^^^^^^^^^^^^^^^^^\n",
      "  File \"/home/luecha-kanm/Documents/Dev/Agintic-AI/agentic_ai_engineer_course/4_langgraph/.venv/lib/python3.12/site-packages/gradio/route_utils.py\", line 349, in call_process_api\n",
      "    output = await app.get_blocks().process_api(\n",
      "             ^^^^^^^^^^^^^^^^^^^^^^^^^^^^^^^^^^^\n",
      "  File \"/home/luecha-kanm/Documents/Dev/Agintic-AI/agentic_ai_engineer_course/4_langgraph/.venv/lib/python3.12/site-packages/gradio/blocks.py\", line 2274, in process_api\n",
      "    result = await self.call_function(\n",
      "             ^^^^^^^^^^^^^^^^^^^^^^^^^\n",
      "  File \"/home/luecha-kanm/Documents/Dev/Agintic-AI/agentic_ai_engineer_course/4_langgraph/.venv/lib/python3.12/site-packages/gradio/blocks.py\", line 1779, in call_function\n",
      "    prediction = await fn(*processed_input)\n",
      "                 ^^^^^^^^^^^^^^^^^^^^^^^^^^\n",
      "  File \"/home/luecha-kanm/Documents/Dev/Agintic-AI/agentic_ai_engineer_course/4_langgraph/.venv/lib/python3.12/site-packages/gradio/utils.py\", line 882, in async_wrapper\n",
      "    response = await f(*args, **kwargs)\n",
      "               ^^^^^^^^^^^^^^^^^^^^^^^^\n",
      "  File \"/home/luecha-kanm/Documents/Dev/Agintic-AI/agentic_ai_engineer_course/4_langgraph/.venv/lib/python3.12/site-packages/gradio/chat_interface.py\", line 551, in __wrapper\n",
      "    return await submit_fn(*args, **kwargs)\n",
      "           ^^^^^^^^^^^^^^^^^^^^^^^^^^^^^^^^\n",
      "  File \"/home/luecha-kanm/Documents/Dev/Agintic-AI/agentic_ai_engineer_course/4_langgraph/.venv/lib/python3.12/site-packages/gradio/chat_interface.py\", line 925, in _submit_fn\n",
      "    response = await anyio.to_thread.run_sync(\n",
      "               ^^^^^^^^^^^^^^^^^^^^^^^^^^^^^^^\n",
      "  File \"/home/luecha-kanm/Documents/Dev/Agintic-AI/agentic_ai_engineer_course/4_langgraph/.venv/lib/python3.12/site-packages/anyio/to_thread.py\", line 56, in run_sync\n",
      "    return await get_async_backend().run_sync_in_worker_thread(\n",
      "           ^^^^^^^^^^^^^^^^^^^^^^^^^^^^^^^^^^^^^^^^^^^^^^^^^^^^\n",
      "  File \"/home/luecha-kanm/Documents/Dev/Agintic-AI/agentic_ai_engineer_course/4_langgraph/.venv/lib/python3.12/site-packages/anyio/_backends/_asyncio.py\", line 2476, in run_sync_in_worker_thread\n",
      "    return await future\n",
      "           ^^^^^^^^^^^^\n",
      "  File \"/home/luecha-kanm/Documents/Dev/Agintic-AI/agentic_ai_engineer_course/4_langgraph/.venv/lib/python3.12/site-packages/anyio/_backends/_asyncio.py\", line 967, in run\n",
      "    result = context.run(func, *args)\n",
      "             ^^^^^^^^^^^^^^^^^^^^^^^^\n",
      "  File \"/tmp/ipykernel_782531/1668862555.py\", line 6, in chat\n",
      "    result = graph.invoke(\n",
      "             ^^^^^^^^^^^^^\n",
      "  File \"/home/luecha-kanm/Documents/Dev/Agintic-AI/agentic_ai_engineer_course/4_langgraph/.venv/lib/python3.12/site-packages/langgraph/pregel/main.py\", line 3026, in invoke\n",
      "    for chunk in self.stream(\n",
      "  File \"/home/luecha-kanm/Documents/Dev/Agintic-AI/agentic_ai_engineer_course/4_langgraph/.venv/lib/python3.12/site-packages/langgraph/pregel/main.py\", line 2647, in stream\n",
      "    for _ in runner.tick(\n",
      "  File \"/home/luecha-kanm/Documents/Dev/Agintic-AI/agentic_ai_engineer_course/4_langgraph/.venv/lib/python3.12/site-packages/langgraph/pregel/_runner.py\", line 162, in tick\n",
      "    run_with_retry(\n",
      "  File \"/home/luecha-kanm/Documents/Dev/Agintic-AI/agentic_ai_engineer_course/4_langgraph/.venv/lib/python3.12/site-packages/langgraph/pregel/_retry.py\", line 42, in run_with_retry\n",
      "    return task.proc.invoke(task.input, config)\n",
      "           ^^^^^^^^^^^^^^^^^^^^^^^^^^^^^^^^^^^^\n",
      "  File \"/home/luecha-kanm/Documents/Dev/Agintic-AI/agentic_ai_engineer_course/4_langgraph/.venv/lib/python3.12/site-packages/langgraph/_internal/_runnable.py\", line 659, in invoke\n",
      "    input = step.invoke(input, config)\n",
      "            ^^^^^^^^^^^^^^^^^^^^^^^^^^\n",
      "  File \"/home/luecha-kanm/Documents/Dev/Agintic-AI/agentic_ai_engineer_course/4_langgraph/.venv/lib/python3.12/site-packages/langgraph/_internal/_runnable.py\", line 401, in invoke\n",
      "    ret = self.func(*args, **kwargs)\n",
      "          ^^^^^^^^^^^^^^^^^^^^^^^^^^\n",
      "  File \"/home/luecha-kanm/Documents/Dev/Agintic-AI/agentic_ai_engineer_course/4_langgraph/.venv/lib/python3.12/site-packages/langgraph/graph/_branch.py\", line 169, in _route\n",
      "    return self._finish(writer, input, result, config)\n",
      "           ^^^^^^^^^^^^^^^^^^^^^^^^^^^^^^^^^^^^^^^^^^^\n",
      "  File \"/home/luecha-kanm/Documents/Dev/Agintic-AI/agentic_ai_engineer_course/4_langgraph/.venv/lib/python3.12/site-packages/langgraph/graph/_branch.py\", line 205, in _finish\n",
      "    r if isinstance(r, Send) else self.ends[r] for r in result\n",
      "                                  ~~~~~~~~~^^^\n",
      "KeyError: '__end__'\n",
      "During task with name 'chatbot' and id 'c2743184-abdc-24fc-77f4-8a4409306cd0'\n"
     ]
    }
   ],
   "source": [
    "config = {\"configurable\": {\"thread_id\": \"3333\"}}\n",
    "\n",
    "\n",
    "def chat(user_input: str, history) -> str:\n",
    "    \"\"\"This function is called when the user sends a message to the chatbot.\"\"\"\n",
    "    result = graph.invoke(\n",
    "        {\"messages\": [{\"role\": \"user\", \"content\": user_input}]}, config=config\n",
    "    )\n",
    "    print(result)\n",
    "    \n",
    "    return result[\"messages\"][-1].content\n",
    "\n",
    "\n",
    "gr.ChatInterface(chat, type=\"messages\").launch()"
   ]
  }
 ],
 "metadata": {
  "kernelspec": {
   "display_name": ".venv",
   "language": "python",
   "name": "python3"
  },
  "language_info": {
   "codemirror_mode": {
    "name": "ipython",
    "version": 3
   },
   "file_extension": ".py",
   "mimetype": "text/x-python",
   "name": "python",
   "nbconvert_exporter": "python",
   "pygments_lexer": "ipython3",
   "version": "3.12.3"
  }
 },
 "nbformat": 4,
 "nbformat_minor": 5
}
