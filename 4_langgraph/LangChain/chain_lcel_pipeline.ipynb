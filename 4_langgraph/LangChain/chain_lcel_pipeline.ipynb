{
 "cells": [
  {
   "cell_type": "markdown",
   "id": "c8ed90e6",
   "metadata": {},
   "source": [
    "## LCEL (LangChain Expression Language)\n",
    "\n",
    "LCEL เป็น “ภาษาเชิงประกาศ (declarative)” สำหรับประกอบ chains จากหน่วยพื้นฐานที่เรียกว่า Runnable (เช่น Prompt, LLM, Parser, Retriever) โดยใช้ตัวต่อแบบท่อ | เพื่อบอก “อยากให้เกิดอะไร” มากกว่าบอกขั้นตอน imperatively\n",
    "\n",
    "- Pipe operator (|) ต่อ runnable เป็น RunnableSequence: เอาเอาต์พุตของตัวก่อนหน้าไปเป็นอินพุตของตัวถัดไป (ทำ pipeline)\n",
    "\n",
    "- RunnableParallel รันหลายงานพร้อมกัน แล้วรวมผลเป็น dict (เช่น ดึง context กับคำถามพร้อม ๆ กันสำหรับ RAG)\n",
    "\n",
    "- Retriever เป็น Runnable โดยดีไซน์ (สืบทอดจาก BaseRetriever) จึงต่อเข้าพายป์ไลน์ LCEL ได้ตรง ๆ ไม่ต้องฝังในพรอมป์ตเสมอไป"
   ]
  },
  {
   "cell_type": "code",
   "execution_count": 5,
   "id": "8061b9cf",
   "metadata": {},
   "outputs": [],
   "source": [
    "from langchain_core.prompts import ChatPromptTemplate\n",
    "from langchain_core.output_parsers import StrOutputParser\n",
    "from langchain_ollama import ChatOllama"
   ]
  },
  {
   "cell_type": "markdown",
   "id": "f7e43c19",
   "metadata": {},
   "source": [
    "### Basic Chain (LCEL/Runnable) \n",
    "\n",
    "แสดง pipeline prompt → llm → parser"
   ]
  },
  {
   "cell_type": "code",
   "execution_count": 6,
   "id": "1f450c13",
   "metadata": {},
   "outputs": [
    {
     "name": "stdout",
     "output_type": "stream",
     "text": [
      "Why did the ice cream go to therapy?  \n",
      "Because it couldn’t stop melting under pressure!\n"
     ]
    }
   ],
   "source": [
    "prompt = ChatPromptTemplate.from_template(\"Tell me a short joke about {topic}\")\n",
    "llm = ChatOllama(model=\"gpt-oss\")\n",
    "parser = StrOutputParser()\n",
    "\n",
    "chain = prompt | llm | parser\n",
    "print(chain.invoke({\"topic\": \"ice cream\"}))"
   ]
  },
  {
   "cell_type": "markdown",
   "id": "97d831a2",
   "metadata": {},
   "source": [
    "### Chain (LCEL/Runnable) -> RAG\n",
    "\n",
    "“ดึง context และส่ง question” พร้อมกัน แล้วค่อยประกอบเป็นพรอมป์ต → LLM"
   ]
  },
  {
   "cell_type": "code",
   "execution_count": 7,
   "id": "24fcdcfb",
   "metadata": {},
   "outputs": [
    {
     "data": {
      "text/plain": [
       "'ผลลัพธ์: 1+2 = 3'"
      ]
     },
     "execution_count": 7,
     "metadata": {},
     "output_type": "execute_result"
    }
   ],
   "source": [
    "from langchain_core.tools import tool\n",
    "\n",
    "@tool\n",
    "def calculate_math_tool(expression: str):\n",
    "    \"\"\"Calculate mathematical expressions safely\"\"\"\n",
    "    try:\n",
    "        # Remove any potentially dangerous characters and evaluate safely\n",
    "        allowed_chars = set('0123456789+-*/(). ')\n",
    "        if all(c in allowed_chars for c in expression):\n",
    "            result = eval(expression)\n",
    "            return f\"ผลลัพธ์: {expression} = {result}\"\n",
    "        else:\n",
    "            return \"ข้อผิดพลาด: นิพจน์ไม่ถูกต้อง ใช้ได้เฉพาะตัวเลขและเครื่องหมาย +, -, *, /, (, ) เท่านั้น\"\n",
    "    except Exception as e:\n",
    "        return f\"ข้อผิดพลาดในการคำนวณ: {str(e)}\"\n",
    "\n",
    "calculate_math_tool.invoke(\"1+2\")"
   ]
  },
  {
   "cell_type": "code",
   "execution_count": null,
   "id": "c6dd3fe5",
   "metadata": {},
   "outputs": [],
   "source": [
    "from langchain_community.utilities import GoogleSerperAPIWrapper\n",
    "\n",
    "from langchain.agents import Tool\n",
    "\n",
    "serper = GoogleSerperAPIWrapper()\n",
    "\n",
    "search_tool = Tool(\n",
    "    name=\"search\",\n",
    "    description=\"Useful for when you need more information from an online search\",\n",
    "    func=serper.run\n",
    ")"
   ]
  },
  {
   "cell_type": "markdown",
   "id": "58b078be",
   "metadata": {},
   "source": [
    "LCEL เน้น declarative และ parallel/batch/stream ได้ง่าย เหมาะกับ workflow ตายตัว (เช่น RAG, summarize, ETL) มากกว่า “ให้โมเดลเลือก tool เอง”"
   ]
  },
  {
   "cell_type": "code",
   "execution_count": 9,
   "id": "0062c454",
   "metadata": {},
   "outputs": [
    {
     "name": "stdout",
     "output_type": "stream",
     "text": [
      "content='**สรุปข่าวสารล่าสุดเกี่ยวกับหุ้น AMD**\\n\\n| หัวข้อ | สรุป |\\n|--------|------|\\n| **ศักยภาพเพิ่มขึ้น 3 เท่า** | Mizuho รายงานว่าตลาดชิป AMD มีโอกาสเติบโตสูงถึงสามเท่าในอนาคต |\\n| **ความร่วมมือกับ IBM** | AMD และ IBM กำลังสำรวจวิธีผสานรวมโปรเซสเซอร์, กราฟิกการ์ด และ FPGA ของ AMD เข้ากับเทคโนโลยีควอนตัมของ IBM เพื่อเร่งพัฒนาอัลกอริทึมใหม่ ๆ |\\n| **การขายหุ้นของ CTO** | Mark Papermaster ของ AMD ขายหุ้นมูลค่า 1.99 ล้านดอลลาร์ |\\n| **ผลประกอบการไตรมาส 2 ปี 2025** | รายได้ 7.69\\u202fพันล้านดอลลาร์ (เกินอ้างประมาณการ 7.43\\u202fพันล้านดอลลาร์) แต่หุ้นร่วงเกือบ 4\\u202f% เนื่องจากปัจจัยอื่น ๆ |\\n| **ความร่วมมือกับ Intel** | Intel ได้จัดตั้งกลุ่ม Big Tech ร่วมมือกับ AMD เพื่อพัฒนาชิป AI สำหรับ PC |\\n| **ผลกระทบจากการขาดแคลนชิปรุ่นใหม่** | ความต้องการชิป GPU ที่สูงจาก Nvidia ทำให้ AMD มีความท้าทายในการส่งมอบผลิตภัณฑ์ |\\n| **การปรับเปลี่ยนมุมมองของนักวิเคราะห์** | GF Securities (ฮ่องกง) ลดมุมมองเกี่ยวกับ AMD หลังการลดคำสั่งซื้อ MI355X ซึ่งทำให้ยอดออเดอร์ทั้งปีลดลง |\\n| **ผลประกอบการล่าสุด** | รายได้ไตรมาส 2 เพิ่มขึ้น 32\\u202f% YoY ที่ 7.7\\u202fพันล้านดอลลาร์ เกินประมาณการ 7.4\\u202fพันล้านดอลลาร์ |\\n| **การเปลี่ยนแปลงราคาตลาด** | หุ้น AMD ปิดเพิ่มขึ้น 1.85\\u202f% เมื่อเทียบกับสัปดาห์ก่อนหน้า แต่ลดลง 1.15\\u202f% ในรอบเดือน และลด 12.61\\u202f% ในปีที่ผ่านมา |\\n\\n**ผลคำนวณที่แสดง**  \\n\\\\[\\n(6+2)\\\\times 3 = 24\\n\\\\]\\n\\n**สรุป**  \\n- AMD ยังคงเป็นจุดสนใจหลักของนักลงทุนด้วยศักยภาพการเติบโตสูงและความร่วมมือกับบริษัทใหญ่ ๆ เช่น IBM และ Intel  \\n- ผลประกอบการทางการเงินของไตรมาส 2 ยังดีขึ้น แต่ตลาดอาจมีความไม่แน่นอนจากปัจจัยภายนอก เช่น ความขาดแคลนชิปรุ่นใหม่และการปรับราคาของนักวิเคราะห์  \\n- การคำนวณที่คุณให้มาคือ 24 ซึ่งเป็นการยืนยันผลลัพธ์ทางคณิตศาสตร์ของสมการที่นำเสนอ\\n\\nหากต้องการข้อมูลเพิ่มเติมหรือการวิเคราะห์เชิงลึกเพิ่มเติม กรุณาแจ้งให้ทราบได้เลยครับ!' additional_kwargs={} response_metadata={'model': 'gpt-oss', 'created_at': '2025-08-29T08:37:35.072286Z', 'done': True, 'done_reason': 'stop', 'total_duration': 22528057875, 'load_duration': 112976042, 'prompt_eval_count': 774, 'prompt_eval_duration': 4042489625, 'eval_count': 817, 'eval_duration': 18371725250, 'model_name': 'gpt-oss'} id='run--c4d2088c-13c4-43fd-8a9b-b646e38b39fb-0' usage_metadata={'input_tokens': 774, 'output_tokens': 817, 'total_tokens': 1591}\n",
      "**สรุปข่าวสารล่าสุดเกี่ยวกับหุ้น AMD**\n",
      "\n",
      "| หัวข้อ | สรุป |\n",
      "|--------|------|\n",
      "| **ศักยภาพเพิ่มขึ้น 3 เท่า** | Mizuho รายงานว่าตลาดชิป AMD มีโอกาสเติบโตสูงถึงสามเท่าในอนาคต |\n",
      "| **ความร่วมมือกับ IBM** | AMD และ IBM กำลังสำรวจวิธีผสานรวมโปรเซสเซอร์, กราฟิกการ์ด และ FPGA ของ AMD เข้ากับเทคโนโลยีควอนตัมของ IBM เพื่อเร่งพัฒนาอัลกอริทึมใหม่ ๆ |\n",
      "| **การขายหุ้นของ CTO** | Mark Papermaster ของ AMD ขายหุ้นมูลค่า 1.99 ล้านดอลลาร์ |\n",
      "| **ผลประกอบการไตรมาส 2 ปี 2025** | รายได้ 7.69 พันล้านดอลลาร์ (เกินอ้างประมาณการ 7.43 พันล้านดอลลาร์) แต่หุ้นร่วงเกือบ 4 % เนื่องจากปัจจัยอื่น ๆ |\n",
      "| **ความร่วมมือกับ Intel** | Intel ได้จัดตั้งกลุ่ม Big Tech ร่วมมือกับ AMD เพื่อพัฒนาชิป AI สำหรับ PC |\n",
      "| **ผลกระทบจากการขาดแคลนชิปรุ่นใหม่** | ความต้องการชิป GPU ที่สูงจาก Nvidia ทำให้ AMD มีความท้าทายในการส่งมอบผลิตภัณฑ์ |\n",
      "| **การปรับเปลี่ยนมุมมองของนักวิเคราะห์** | GF Securities (ฮ่องกง) ลดมุมมองเกี่ยวกับ AMD หลังการลดคำสั่งซื้อ MI355X ซึ่งทำให้ยอดออเดอร์ทั้งปีลดลง |\n",
      "| **ผลประกอบการล่าสุด** | รายได้ไตรมาส 2 เพิ่มขึ้น 32 % YoY ที่ 7.7 พันล้านดอลลาร์ เกินประมาณการ 7.4 พันล้านดอลลาร์ |\n",
      "| **การเปลี่ยนแปลงราคาตลาด** | หุ้น AMD ปิดเพิ่มขึ้น 1.85 % เมื่อเทียบกับสัปดาห์ก่อนหน้า แต่ลดลง 1.15 % ในรอบเดือน และลด 12.61 % ในปีที่ผ่านมา |\n",
      "\n",
      "**ผลคำนวณที่แสดง**  \n",
      "\\[\n",
      "(6+2)\\times 3 = 24\n",
      "\\]\n",
      "\n",
      "**สรุป**  \n",
      "- AMD ยังคงเป็นจุดสนใจหลักของนักลงทุนด้วยศักยภาพการเติบโตสูงและความร่วมมือกับบริษัทใหญ่ ๆ เช่น IBM และ Intel  \n",
      "- ผลประกอบการทางการเงินของไตรมาส 2 ยังดีขึ้น แต่ตลาดอาจมีความไม่แน่นอนจากปัจจัยภายนอก เช่น ความขาดแคลนชิปรุ่นใหม่และการปรับราคาของนักวิเคราะห์  \n",
      "- การคำนวณที่คุณให้มาคือ 24 ซึ่งเป็นการยืนยันผลลัพธ์ทางคณิตศาสตร์ของสมการที่นำเสนอ\n",
      "\n",
      "หากต้องการข้อมูลเพิ่มเติมหรือการวิเคราะห์เชิงลึกเพิ่มเติม กรุณาแจ้งให้ทราบได้เลยครับ!\n"
     ]
    }
   ],
   "source": [
    "# from langchain_core.runnables import RunnableParallel, RunnableSequence\n",
    "from operator import itemgetter\n",
    "\n",
    "prompt = ChatPromptTemplate.from_template(\n",
    "    \"สรุปจากผลค้นหา:\\n{search_out}\\n\\n\"\n",
    "    \"และผลคำนวณ:\\n{calc_out}\\n\\n\"\n",
    "    \"จากนั้นตอบให้ชัดเจน:\"\n",
    ")\n",
    "\n",
    "parallel = {\n",
    "    \"search_out\": itemgetter(\"q\") | search_tool,\n",
    "    \"calc_out\": itemgetter(\"expr\") | calculate_math_tool\n",
    "}\n",
    "chain = parallel | prompt | llm\n",
    "\n",
    "# chain = RunnableSequence([\n",
    "#     RunnableParallel({\n",
    "#         \"search_out\": itemgetter(\"q\")   | search_tool,\n",
    "#         \"calc_out\":   itemgetter(\"expr\")| calculate_math_tool,\n",
    "#     }),\n",
    "#     prompt,\n",
    "#     llm,\n",
    "# ])\n",
    "\n",
    "# print(rag_chain.invoke(\"1+9 ได้เท่าไหร่\"))\n",
    "\n",
    "res = chain.invoke({\n",
    "    \"q\": \"สรุปข่าว AMD วันนี้สั้น ๆ\",\n",
    "    \"expr\": \"(6+2)*3\"\n",
    "})\n",
    "\n",
    "print(res)\n",
    "print(res.content)"
   ]
  }
 ],
 "metadata": {
  "kernelspec": {
   "display_name": "env",
   "language": "python",
   "name": "python3"
  },
  "language_info": {
   "codemirror_mode": {
    "name": "ipython",
    "version": 3
   },
   "file_extension": ".py",
   "mimetype": "text/x-python",
   "name": "python",
   "nbconvert_exporter": "python",
   "pygments_lexer": "ipython3",
   "version": "3.13.3"
  }
 },
 "nbformat": 4,
 "nbformat_minor": 5
}
