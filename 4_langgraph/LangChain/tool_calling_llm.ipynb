{
 "cells": [
  {
   "cell_type": "markdown",
   "id": "1aed81d2",
   "metadata": {},
   "source": [
    "## Tool-Calling LLM\n",
    "\n",
    "แนวคิด: ให้โมเดล “รู้จัก” เครื่องมือ (tools) หลายตัว แล้ว โมเดลตัดสินใจเอง ว่าจะเรียกตัวไหน/ไม่เรียกเลย ผ่านการผูกสคีมาด้วย .bind_tools([...])\n",
    "\n",
    "- Tool binding: model.bind_tools(tools_list) ส่งสคีมาของ tools ให้โมเดลทราบ เพื่อที่เวลาเรียกใช้ โมเดลจะคืนชื่อเครื่องมือ + arguments (tool call) มาให้เรา execute จริง ๆ แล้วเราค่อยส่งผล (observation) กลับเข้าโมเดลรอบถัดไปหากต้องการ \n",
    "LangChain\n",
    "+1\n",
    "\n",
    "- ยืดหยุ่น: โมเดลอาจเลือก “ไม่เรียก tool”, “เรียก 1 ตัว”, หรือ “หลายตัว” ขึ้นกับโจทย์/พรอมป์ต\n",
    "- เหมาะกับงาน “ครั้งเดียวจบ” (one-shot)"
   ]
  },
  {
   "cell_type": "markdown",
   "id": "f5de6e09",
   "metadata": {},
   "source": [
    "## Create Tools function"
   ]
  },
  {
   "cell_type": "code",
   "execution_count": null,
   "id": "7f5f7d4d",
   "metadata": {},
   "outputs": [
    {
     "data": {
      "text/plain": [
       "'ผลลัพธ์: 1+2 = 3'"
      ]
     },
     "execution_count": 32,
     "metadata": {},
     "output_type": "execute_result"
    }
   ],
   "source": [
    "from langchain.agents import Tool\n",
    "\n",
    "def calculate_math_tool(expression: str):\n",
    "    \"\"\"Calculate mathematical expressions safely\"\"\"\n",
    "    try:\n",
    "        allowed_chars = set('0123456789+-*/(). ')\n",
    "        if all(c in allowed_chars for c in expression):\n",
    "            result = eval(expression)\n",
    "            return f\"result: {expression} = {result}\"\n",
    "        else:\n",
    "            return \"Error: Invalid expression. Only numbers and the symbols +, -, *, /, (, ) are allowed.\"\n",
    "    except Exception as e:\n",
    "        return f\"Calculation error : {str(e)}\"\n",
    "\n",
    "calculate_tool = Tool(\n",
    "    name=\"calculator\",\n",
    "    func=calculate_math_tool,\n",
    "    description=\"Use this to calculate mathematical expressions. Input should be a valid math expression like '2 + 3 * 4' or '(10 + 5) / 3'\"\n",
    ")\n",
    "\n",
    "calculate_tool.invoke(\"1+2\")"
   ]
  },
  {
   "cell_type": "code",
   "execution_count": null,
   "id": "849e67a7",
   "metadata": {},
   "outputs": [],
   "source": [
    "from langchain_community.utilities import GoogleSerperAPIWrapper\n",
    "\n",
    "serper = GoogleSerperAPIWrapper()\n",
    "\n",
    "search_tool = Tool(\n",
    "    name=\"search\",\n",
    "    description=\"Useful for when you need more information from an online search\",\n",
    "    func=serper.run\n",
    ")"
   ]
  },
  {
   "cell_type": "markdown",
   "id": "8d9e3a9b",
   "metadata": {},
   "source": [
    "## Build Tools"
   ]
  },
  {
   "cell_type": "code",
   "execution_count": null,
   "id": "2bd6e158",
   "metadata": {},
   "outputs": [],
   "source": [
    "tools = [calculate_tool, search_tool]"
   ]
  },
  {
   "cell_type": "markdown",
   "id": "014a32b2",
   "metadata": {},
   "source": [
    "## Bind tools to LLMs"
   ]
  },
  {
   "cell_type": "code",
   "execution_count": null,
   "id": "88982ec9",
   "metadata": {},
   "outputs": [],
   "source": [
    "from langchain_ollama import ChatOllama\n",
    "\n",
    "llm = ChatOllama(model=\"gpt-oss\")\n",
    "\n",
    "agent = llm.bind_tools(tools)"
   ]
  },
  {
   "cell_type": "markdown",
   "id": "95e68178",
   "metadata": {},
   "source": [
    "## Test"
   ]
  },
  {
   "cell_type": "code",
   "execution_count": null,
   "id": "a598da10",
   "metadata": {},
   "outputs": [
    {
     "name": "stdout",
     "output_type": "stream",
     "text": [
      "content='12\\u202f+\\u202f7\\u202f=\\u202f19' additional_kwargs={} response_metadata={'model': 'gpt-oss', 'created_at': '2025-08-29T06:31:07.567759Z', 'done': True, 'done_reason': 'stop', 'total_duration': 5624104375, 'load_duration': 182553542, 'prompt_eval_count': 191, 'prompt_eval_duration': 3778954708, 'eval_count': 75, 'eval_duration': 1661844959, 'model_name': 'gpt-oss'} id='run--bcb96e32-b2a4-4518-be78-54aced76caed-0' usage_metadata={'input_tokens': 191, 'output_tokens': 75, 'total_tokens': 266}\n",
      "12 + 7 = 19\n"
     ]
    }
   ],
   "source": [
    "msg1 = agent.invoke(\"บวก 12 กับ 7 แล้วบอกคำตอบ\")\n",
    "print(msg1)\n",
    "print(msg1.content)"
   ]
  },
  {
   "cell_type": "code",
   "execution_count": null,
   "id": "0d165754",
   "metadata": {},
   "outputs": [
    {
     "name": "stdout",
     "output_type": "stream",
     "text": [
      "content='เมืองหลวงของประเทศไทยคือ **กรุงเทพมหานคร** (Bangkok)' additional_kwargs={} response_metadata={'model': 'gpt-oss', 'created_at': '2025-08-29T06:31:09.208881Z', 'done': True, 'done_reason': 'stop', 'total_duration': 1626541958, 'load_duration': 77556292, 'prompt_eval_count': 186, 'prompt_eval_duration': 99178584, 'eval_count': 71, 'eval_duration': 1449357875, 'model_name': 'gpt-oss'} id='run--f8657441-ef09-4b9d-92cb-00434ae2592a-0' usage_metadata={'input_tokens': 186, 'output_tokens': 71, 'total_tokens': 257}\n",
      "เมืองหลวงของประเทศไทยคือ **กรุงเทพมหานคร** (Bangkok)\n"
     ]
    }
   ],
   "source": [
    "msg2 = agent.invoke(\"เมืองหลวงของประเทศไทยคือ?\")\n",
    "print(msg2)\n",
    "print(msg2.content)"
   ]
  }
 ],
 "metadata": {
  "kernelspec": {
   "display_name": "env",
   "language": "python",
   "name": "python3"
  },
  "language_info": {
   "codemirror_mode": {
    "name": "ipython",
    "version": 3
   },
   "file_extension": ".py",
   "mimetype": "text/x-python",
   "name": "python",
   "nbconvert_exporter": "python",
   "pygments_lexer": "ipython3",
   "version": "3.13.3"
  }
 },
 "nbformat": 4,
 "nbformat_minor": 5
}
