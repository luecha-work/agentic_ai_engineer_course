{
 "cells": [
  {
   "cell_type": "markdown",
   "id": "24598b44",
   "metadata": {},
   "source": [
    "## AgentExecutor (ReAct Agent — แบบเก่า/Legacy)\n",
    "\n",
    "เอเจนต์จะวนลูป Reason → Act(tool) → Observe → อัตโนมัติ และเลือกใช้ search หรือ calculate_math_tool ได้เองหลายรอบ แต่แนวนี้ถูกจัดเป็น legacy และมีคำแนะนำให้ย้ายไป LangGraph หากงานซับซ้อนขึ้น"
   ]
  },
  {
   "cell_type": "markdown",
   "id": "74273ba9",
   "metadata": {},
   "source": [
    "### Build Tool Function"
   ]
  },
  {
   "cell_type": "code",
   "execution_count": null,
   "id": "799d9f02",
   "metadata": {},
   "outputs": [
    {
     "data": {
      "text/plain": [
       "'ผลลัพธ์: 1+2 = 3'"
      ]
     },
     "execution_count": 21,
     "metadata": {},
     "output_type": "execute_result"
    }
   ],
   "source": [
    "# from langchain_core.tools import tool\n",
    "\n",
    "# @tool\n",
    "# def calculate_math_tool(expression: str):\n",
    "#     \"\"\"Calculate mathematical expressions safely\"\"\"\n",
    "#     try:\n",
    "#         # Remove any potentially dangerous characters and evaluate safely\n",
    "#         allowed_chars = set('0123456789+-*/(). ')\n",
    "#         if all(c in allowed_chars for c in expression):\n",
    "#             result = eval(expression)\n",
    "#             return f\"ผลลัพธ์: {expression} = {result}\"\n",
    "#         else:\n",
    "#             return \"ข้อผิดพลาด: นิพจน์ไม่ถูกต้อง ใช้ได้เฉพาะตัวเลขและเครื่องหมาย +, -, *, /, (, ) เท่านั้น\"\n",
    "#     except Exception as e:\n",
    "#         return f\"ข้อผิดพลาดในการคำนวณ: {str(e)}\"\n",
    "    \n",
    "# calculate_math_tool.invoke(\"1+2\")"
   ]
  },
  {
   "cell_type": "code",
   "execution_count": 22,
   "id": "05e2ec0c",
   "metadata": {},
   "outputs": [
    {
     "data": {
      "text/plain": [
       "'3'"
      ]
     },
     "execution_count": 22,
     "metadata": {},
     "output_type": "execute_result"
    }
   ],
   "source": [
    "from langchain.agents import Tool\n",
    "\n",
    "def calculate_math_tool(expression: str):\n",
    "    \"\"\"Calculate mathematical expressions safely\"\"\"\n",
    "    try:\n",
    "        allowed_chars = set('0123456789+-*/(). ')\n",
    "        if not all(c in allowed_chars for c in expression):\n",
    "            return \"ข้อผิดพลาด: นิพจน์ไม่ถูกต้อง\"\n",
    "        return str(eval(expression))\n",
    "    except Exception as e:\n",
    "        return f\"ข้อผิดพลาดในการคำนวณ: {str(e)}\"\n",
    "\n",
    "calculate_tool = Tool(\n",
    "    name=\"calculator\",\n",
    "    func=calculate_math_tool,\n",
    "    description=\"Use this to calculate mathematical expressions. Input like '2 + 3 * 4'.\"\n",
    ")\n",
    "\n",
    "calculate_tool.invoke(\"1+2\")"
   ]
  },
  {
   "cell_type": "code",
   "execution_count": null,
   "id": "870384c3",
   "metadata": {},
   "outputs": [],
   "source": [
    "from langchain_community.utilities import GoogleSerperAPIWrapper\n",
    "\n",
    "serper = GoogleSerperAPIWrapper()\n",
    "\n",
    "search_tool = Tool(\n",
    "    name=\"search\",\n",
    "    description=\"Useful for when you need more information from an online search\",\n",
    "    func=serper.run\n",
    ")"
   ]
  },
  {
   "cell_type": "markdown",
   "id": "aee0d67b",
   "metadata": {},
   "source": [
    "### Create Agent\n",
    "\n",
    "- create_tool_calling_agent -> Agent แบบ function/tool calling (เช่น Gemini, GPT-4)\n",
    "- create_openai_functions_agent -> สำหรับ OpenAI function calling โดยเฉพาะ\n",
    "- create_structured_chat_agent -> แบบ structured output (ใช้ JSON schema)\n",
    "- create_react_agent -> Agent แบบ ReAct (reasoning + action)\n",
    "- create_self_ask_with_search_agent -> Agent ที่ถามซ้อนและค้นข้อมูล\n",
    "- create_xml_agent -> Agent ที่รับ/ส่งข้อมูลในรูปแบบ XML\n",
    "- create_multi_function_agent -> Agent ที่เรียกหลาย tool พร้อมกัน (multi-action agent)"
   ]
  },
  {
   "cell_type": "code",
   "execution_count": null,
   "id": "d9f4f9ff",
   "metadata": {},
   "outputs": [],
   "source": [
    "from langchain_ollama import ChatOllama\n",
    "from langchain.agents import create_react_agent, AgentExecutor\n",
    "from langchain_core.prompts import ChatPromptTemplate\n",
    "\n",
    "llm = ChatOllama(model=\"gemma3\", temperature=0)\n",
    "\n",
    "prompt = ChatPromptTemplate.from_messages(\n",
    "    [\n",
    "        (\n",
    "            \"system\",\n",
    "            \"You are a helpful assistant. You have access to these tools:\\n{tools}\\n\\n\"\n",
    "            \"When you need a tool, choose from: {tool_names}.\\n\"\n",
    "            \"You MUST follow the EXACT ReAct format:\\n\"\n",
    "            \"Thought: I need to think about what to do\\n\"\n",
    "            \"Action: tool_name\\n\"\n",
    "            \"Action Input: input_for_tool\\n\"\n",
    "            \"Observation: result_from_tool\\n\"\n",
    "            \"Thought: I can now answer the question\\n\"\n",
    "            \"Final Answer: final response\\n\\n\"\n",
    "            \"Always use this exact format with proper line breaks.\",\n",
    "        ),\n",
    "        (\"human\", \"{input}\\n\\n{agent_scratchpad}\"),\n",
    "    ]\n",
    ")\n",
    "\n",
    "TOOLS = [search_tool, calculate_tool]\n",
    "\n",
    "# {tools}/{tool_names} จะถูกเติมให้อัตโนมัติ\n",
    "agent = create_react_agent(\n",
    "    llm, TOOLS, prompt=prompt\n",
    ")  \n",
    "executor = AgentExecutor(agent=agent, tools=TOOLS, verbose=True, max_iterations=5)"
   ]
  },
  {
   "cell_type": "code",
   "execution_count": 18,
   "id": "a470b444",
   "metadata": {},
   "outputs": [
    {
     "name": "stdout",
     "output_type": "stream",
     "text": [
      "\n",
      "\n",
      "\u001b[1m> Entering new AgentExecutor chain...\u001b[0m\n",
      "\u001b[32;1m\u001b[1;3mThought: I need to calculate the expression (6+2)*3 and explain the steps.\n",
      "Action: calculator\n",
      "Action Input: (6+2)*3\u001b[0m\u001b[33;1m\u001b[1;3m24\u001b[0m\u001b[32;1m\u001b[1;3mThought: I can now answer the question.\n",
      "Final Answer: (6+2)*3 = 8 * 3 = 24 คำนวณโดยเริ่มจากการบวก 6 และ 2 ซึ่งได้ผลลัพธ์เป็น 8 จากนั้นคูณ 8 ด้วย 3 ซึ่งได้ผลลัพธ์เป็น 24\u001b[0m\n",
      "\n",
      "\u001b[1m> Finished chain.\u001b[0m\n",
      "(6+2)*3 = 8 * 3 = 24 คำนวณโดยเริ่มจากการบวก 6 และ 2 ซึ่งได้ผลลัพธ์เป็น 8 จากนั้นคูณ 8 ด้วย 3 ซึ่งได้ผลลัพธ์เป็น 24\n"
     ]
    }
   ],
   "source": [
    "print(executor.invoke({\"input\": \"คำนวณ (6+2)*3 พร้อมคำอธิบาย\"})[\"output\"])"
   ]
  },
  {
   "cell_type": "code",
   "execution_count": 19,
   "id": "14816d38",
   "metadata": {},
   "outputs": [
    {
     "name": "stdout",
     "output_type": "stream",
     "text": [
      "\n",
      "\n",
      "\u001b[1m> Entering new AgentExecutor chain...\u001b[0m\n",
      "\u001b[32;1m\u001b[1;3mThought: I need to search for recent news about AMD to provide a helpful response.\n",
      "Action: search\n",
      "Action Input: \"AMD news\"\u001b[0m\u001b[36;1m\u001b[1;3mAMD stock earned a fresh buy rating after a Wall Street analyst spoke with industry contacts about adoption of the company's AI chips. AMD delivers leadership high-performance and adaptive computing solutions to advance data center AI, AI PCs, intelligent edge devices, gaming, & beyond. The most talked about and market moving research calls around Wall Street are now in one place. Here are today's research calls that ... See what's new with AMD. Read our blogs, catch up on the latest press releases, and discover our media resources. Get Advanced Micro Devices Inc (AMD:NASDAQ) real-time stock quotes, news, price and financial information from CNBC. Shares of computer processor maker AMD (NASDAQ:AMD) jumped 3.9% in the morning session after the company received a key analyst upgrade and ... AMD says it has boosted partner funding by more than 40 percent this year as it works to nearly double its channel staff and grow its global ... $AMD Gaming revenue was $1.1 billion, up 73% year-over-year driven by an increase in semi-custom revenue and strong AMD Radeon™ GPU demand. AMD and IBM are exploring how to integrate AMD CPUs, GPUs, and FPGAs with IBM quantum computers to efficiently accelerate a new class of ...\u001b[0m\u001b[32;1m\u001b[1;3mI can now answer the question\n",
      "Final Answer: AMD's stock earned a fresh buy rating after a Wall Street analyst spoke with industry contacts about adoption of the company's AI chips. Additionally, AMD's gaming revenue was $1.1 billion, up 73% year-over-year due to increased semi-custom revenue and strong demand for AMD Radeon™ GPUs. AMD is also exploring integration with IBM quantum computers.\u001b[0m\n",
      "\n",
      "\u001b[1m> Finished chain.\u001b[0m\n",
      "AMD's stock earned a fresh buy rating after a Wall Street analyst spoke with industry contacts about adoption of the company's AI chips. Additionally, AMD's gaming revenue was $1.1 billion, up 73% year-over-year due to increased semi-custom revenue and strong demand for AMD Radeon™ GPUs. AMD is also exploring integration with IBM quantum computers.\n"
     ]
    }
   ],
   "source": [
    "print(executor.invoke({\"input\": \"หาข้อมูลข่าว AMD\"})[\"output\"])"
   ]
  }
 ],
 "metadata": {
  "kernelspec": {
   "display_name": "env",
   "language": "python",
   "name": "python3"
  },
  "language_info": {
   "codemirror_mode": {
    "name": "ipython",
    "version": 3
   },
   "file_extension": ".py",
   "mimetype": "text/x-python",
   "name": "python",
   "nbconvert_exporter": "python",
   "pygments_lexer": "ipython3",
   "version": "3.13.3"
  }
 },
 "nbformat": 4,
 "nbformat_minor": 5
}
